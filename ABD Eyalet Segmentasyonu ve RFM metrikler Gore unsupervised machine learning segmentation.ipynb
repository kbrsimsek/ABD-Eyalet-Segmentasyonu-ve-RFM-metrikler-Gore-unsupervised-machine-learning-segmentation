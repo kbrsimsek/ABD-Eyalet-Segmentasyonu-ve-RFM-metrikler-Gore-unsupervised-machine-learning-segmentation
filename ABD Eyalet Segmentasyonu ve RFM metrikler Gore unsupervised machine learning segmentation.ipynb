{
 "cells": [
  {
   "cell_type": "code",
   "execution_count": 1,
   "metadata": {},
   "outputs": [],
   "source": [
    "#önemli kütüphaneler\n",
    "import numpy as np\n",
    "import pandas as pd \n",
    "import seaborn as sns\n",
    "import matplotlib.pyplot as plt\n",
    "from sklearn.cluster import KMeans\n",
    "import warnings\n",
    "warnings.filterwarnings(\"ignore\", category=DeprecationWarning) \n",
    "warnings.filterwarnings(\"ignore\", category=FutureWarning)"
   ]
  },
  {
   "cell_type": "markdown",
   "metadata": {},
   "source": [
    "# PROJE 1: ABD Eyalet Segmentasyonu\n",
    "# PROJE 2: RFM metrikler Göre unsupervised machine learning segmentation"
   ]
  },
  {
   "cell_type": "code",
   "execution_count": 2,
   "metadata": {},
   "outputs": [
    {
     "data": {
      "text/html": [
       "<div>\n",
       "<style scoped>\n",
       "    .dataframe tbody tr th:only-of-type {\n",
       "        vertical-align: middle;\n",
       "    }\n",
       "\n",
       "    .dataframe tbody tr th {\n",
       "        vertical-align: top;\n",
       "    }\n",
       "\n",
       "    .dataframe thead th {\n",
       "        text-align: right;\n",
       "    }\n",
       "</style>\n",
       "<table border=\"1\" class=\"dataframe\">\n",
       "  <thead>\n",
       "    <tr style=\"text-align: right;\">\n",
       "      <th></th>\n",
       "      <th>Murder</th>\n",
       "      <th>Assault</th>\n",
       "      <th>UrbanPop</th>\n",
       "      <th>Rape</th>\n",
       "    </tr>\n",
       "  </thead>\n",
       "  <tbody>\n",
       "    <tr>\n",
       "      <th>Alabama</th>\n",
       "      <td>13.2</td>\n",
       "      <td>236</td>\n",
       "      <td>58</td>\n",
       "      <td>21.2</td>\n",
       "    </tr>\n",
       "    <tr>\n",
       "      <th>Alaska</th>\n",
       "      <td>10.0</td>\n",
       "      <td>263</td>\n",
       "      <td>48</td>\n",
       "      <td>44.5</td>\n",
       "    </tr>\n",
       "    <tr>\n",
       "      <th>Arizona</th>\n",
       "      <td>8.1</td>\n",
       "      <td>294</td>\n",
       "      <td>80</td>\n",
       "      <td>31.0</td>\n",
       "    </tr>\n",
       "    <tr>\n",
       "      <th>Arkansas</th>\n",
       "      <td>8.8</td>\n",
       "      <td>190</td>\n",
       "      <td>50</td>\n",
       "      <td>19.5</td>\n",
       "    </tr>\n",
       "    <tr>\n",
       "      <th>California</th>\n",
       "      <td>9.0</td>\n",
       "      <td>276</td>\n",
       "      <td>91</td>\n",
       "      <td>40.6</td>\n",
       "    </tr>\n",
       "  </tbody>\n",
       "</table>\n",
       "</div>"
      ],
      "text/plain": [
       "            Murder  Assault  UrbanPop  Rape\n",
       "Alabama       13.2      236        58  21.2\n",
       "Alaska        10.0      263        48  44.5\n",
       "Arizona        8.1      294        80  31.0\n",
       "Arkansas       8.8      190        50  19.5\n",
       "California     9.0      276        91  40.6"
      ]
     },
     "execution_count": 2,
     "metadata": {},
     "output_type": "execute_result"
    }
   ],
   "source": [
    "df = pd.read_csv(\"./USArrests.csv\", index_col = 0)\n",
    "df.head()"
   ]
  },
  {
   "cell_type": "code",
   "execution_count": 3,
   "metadata": {},
   "outputs": [
    {
     "data": {
      "text/html": [
       "<div>\n",
       "<style scoped>\n",
       "    .dataframe tbody tr th:only-of-type {\n",
       "        vertical-align: middle;\n",
       "    }\n",
       "\n",
       "    .dataframe tbody tr th {\n",
       "        vertical-align: top;\n",
       "    }\n",
       "\n",
       "    .dataframe thead th {\n",
       "        text-align: right;\n",
       "    }\n",
       "</style>\n",
       "<table border=\"1\" class=\"dataframe\">\n",
       "  <thead>\n",
       "    <tr style=\"text-align: right;\">\n",
       "      <th></th>\n",
       "      <th>Murder</th>\n",
       "      <th>Assault</th>\n",
       "      <th>UrbanPop</th>\n",
       "      <th>Rape</th>\n",
       "    </tr>\n",
       "  </thead>\n",
       "  <tbody>\n",
       "    <tr>\n",
       "      <th>Alabama</th>\n",
       "      <td>13.2</td>\n",
       "      <td>236</td>\n",
       "      <td>58</td>\n",
       "      <td>21.2</td>\n",
       "    </tr>\n",
       "    <tr>\n",
       "      <th>Alaska</th>\n",
       "      <td>10.0</td>\n",
       "      <td>263</td>\n",
       "      <td>48</td>\n",
       "      <td>44.5</td>\n",
       "    </tr>\n",
       "    <tr>\n",
       "      <th>Arizona</th>\n",
       "      <td>8.1</td>\n",
       "      <td>294</td>\n",
       "      <td>80</td>\n",
       "      <td>31.0</td>\n",
       "    </tr>\n",
       "    <tr>\n",
       "      <th>Arkansas</th>\n",
       "      <td>8.8</td>\n",
       "      <td>190</td>\n",
       "      <td>50</td>\n",
       "      <td>19.5</td>\n",
       "    </tr>\n",
       "    <tr>\n",
       "      <th>California</th>\n",
       "      <td>9.0</td>\n",
       "      <td>276</td>\n",
       "      <td>91</td>\n",
       "      <td>40.6</td>\n",
       "    </tr>\n",
       "  </tbody>\n",
       "</table>\n",
       "</div>"
      ],
      "text/plain": [
       "            Murder  Assault  UrbanPop  Rape\n",
       "Alabama       13.2      236        58  21.2\n",
       "Alaska        10.0      263        48  44.5\n",
       "Arizona        8.1      294        80  31.0\n",
       "Arkansas       8.8      190        50  19.5\n",
       "California     9.0      276        91  40.6"
      ]
     },
     "execution_count": 3,
     "metadata": {},
     "output_type": "execute_result"
    }
   ],
   "source": [
    "# Yukaridaki ile bu csv okuma isleminin farkina bakmak icin bu islemi yaptim. fark yok. ./ yi koymadanda aynisi oluyor.\n",
    "df = pd.read_csv(\"USArrests.csv\", index_col = 0)\n",
    "df.head()"
   ]
  },
  {
   "cell_type": "code",
   "execution_count": 4,
   "metadata": {},
   "outputs": [
    {
     "data": {
      "text/plain": [
       "Murder      0\n",
       "Assault     0\n",
       "UrbanPop    0\n",
       "Rape        0\n",
       "dtype: int64"
      ]
     },
     "execution_count": 4,
     "metadata": {},
     "output_type": "execute_result"
    }
   ],
   "source": [
    "df.isnull().sum()"
   ]
  },
  {
   "cell_type": "code",
   "execution_count": 5,
   "metadata": {},
   "outputs": [
    {
     "name": "stdout",
     "output_type": "stream",
     "text": [
      "<class 'pandas.core.frame.DataFrame'>\n",
      "Index: 50 entries, Alabama to Wyoming\n",
      "Data columns (total 4 columns):\n",
      " #   Column    Non-Null Count  Dtype  \n",
      "---  ------    --------------  -----  \n",
      " 0   Murder    50 non-null     float64\n",
      " 1   Assault   50 non-null     int64  \n",
      " 2   UrbanPop  50 non-null     int64  \n",
      " 3   Rape      50 non-null     float64\n",
      "dtypes: float64(2), int64(2)\n",
      "memory usage: 2.0+ KB\n"
     ]
    }
   ],
   "source": [
    "df.info()"
   ]
  },
  {
   "cell_type": "code",
   "execution_count": 6,
   "metadata": {},
   "outputs": [
    {
     "data": {
      "text/html": [
       "<div>\n",
       "<style scoped>\n",
       "    .dataframe tbody tr th:only-of-type {\n",
       "        vertical-align: middle;\n",
       "    }\n",
       "\n",
       "    .dataframe tbody tr th {\n",
       "        vertical-align: top;\n",
       "    }\n",
       "\n",
       "    .dataframe thead th {\n",
       "        text-align: right;\n",
       "    }\n",
       "</style>\n",
       "<table border=\"1\" class=\"dataframe\">\n",
       "  <thead>\n",
       "    <tr style=\"text-align: right;\">\n",
       "      <th></th>\n",
       "      <th>count</th>\n",
       "      <th>mean</th>\n",
       "      <th>std</th>\n",
       "      <th>min</th>\n",
       "      <th>25%</th>\n",
       "      <th>50%</th>\n",
       "      <th>75%</th>\n",
       "      <th>max</th>\n",
       "    </tr>\n",
       "  </thead>\n",
       "  <tbody>\n",
       "    <tr>\n",
       "      <th>Murder</th>\n",
       "      <td>50.0</td>\n",
       "      <td>7.788</td>\n",
       "      <td>4.355510</td>\n",
       "      <td>0.8</td>\n",
       "      <td>4.075</td>\n",
       "      <td>7.25</td>\n",
       "      <td>11.250</td>\n",
       "      <td>17.4</td>\n",
       "    </tr>\n",
       "    <tr>\n",
       "      <th>Assault</th>\n",
       "      <td>50.0</td>\n",
       "      <td>170.760</td>\n",
       "      <td>83.337661</td>\n",
       "      <td>45.0</td>\n",
       "      <td>109.000</td>\n",
       "      <td>159.00</td>\n",
       "      <td>249.000</td>\n",
       "      <td>337.0</td>\n",
       "    </tr>\n",
       "    <tr>\n",
       "      <th>UrbanPop</th>\n",
       "      <td>50.0</td>\n",
       "      <td>65.540</td>\n",
       "      <td>14.474763</td>\n",
       "      <td>32.0</td>\n",
       "      <td>54.500</td>\n",
       "      <td>66.00</td>\n",
       "      <td>77.750</td>\n",
       "      <td>91.0</td>\n",
       "    </tr>\n",
       "    <tr>\n",
       "      <th>Rape</th>\n",
       "      <td>50.0</td>\n",
       "      <td>21.232</td>\n",
       "      <td>9.366385</td>\n",
       "      <td>7.3</td>\n",
       "      <td>15.075</td>\n",
       "      <td>20.10</td>\n",
       "      <td>26.175</td>\n",
       "      <td>46.0</td>\n",
       "    </tr>\n",
       "  </tbody>\n",
       "</table>\n",
       "</div>"
      ],
      "text/plain": [
       "          count     mean        std   min      25%     50%      75%    max\n",
       "Murder     50.0    7.788   4.355510   0.8    4.075    7.25   11.250   17.4\n",
       "Assault    50.0  170.760  83.337661  45.0  109.000  159.00  249.000  337.0\n",
       "UrbanPop   50.0   65.540  14.474763  32.0   54.500   66.00   77.750   91.0\n",
       "Rape       50.0   21.232   9.366385   7.3   15.075   20.10   26.175   46.0"
      ]
     },
     "execution_count": 6,
     "metadata": {},
     "output_type": "execute_result"
    }
   ],
   "source": [
    "df.describe().T"
   ]
  },
  {
   "cell_type": "markdown",
   "metadata": {},
   "source": [
    "#####  Bazen bazi degiskenlerin ölceginin büyük olarak problemin icinde kalmasini ve probleme bunun bir agirlik faktörü gbi etki etmesini isteyebiliriz. Ilgili degiskenin(belirlediginiz) ölceginin etkisini veri setinde tutmak isteyebiliriz. Veya standartlastirip, sonra belirli bir katsayi ile carpabiliriz"
   ]
  },
  {
   "cell_type": "code",
   "execution_count": 7,
   "metadata": {},
   "outputs": [],
   "source": [
    "#Robust Scaler ile dönüstürme\n",
    "from sklearn.preprocessing import RobustScaler"
   ]
  },
  {
   "cell_type": "code",
   "execution_count": 8,
   "metadata": {},
   "outputs": [],
   "source": [
    "# rs seklinde isimlendirebilir. Istedigimiz ismi verebiliriz\n",
    "rs = RobustScaler()"
   ]
  },
  {
   "cell_type": "code",
   "execution_count": 9,
   "metadata": {},
   "outputs": [],
   "source": [
    "# Robust scale ile dönüstürülmüs yeni df miz\n",
    "df = rs.fit_transform(df)"
   ]
  },
  {
   "cell_type": "markdown",
   "metadata": {},
   "source": [
    "- Yukarida görüldügü gibi robust scaler ile standartlastirma islemi yapildiginda negatif (- ile baslayan) rakamlar da cikiyor. Bu yapiyi biraz bozuyor. Mutlak alinsa da ayni sekilde bozabilir..\n",
    "- Bu yüzden MinMaxScaler ile islem yapmak isimizi kolaylastirir. Cünkü burada uzaklik temelli islem yapiliyor ve eksi (-) degerler karisikliga sebebiyet verebilir."
   ]
  },
  {
   "cell_type": "code",
   "execution_count": 10,
   "metadata": {},
   "outputs": [],
   "source": [
    "# MinMaxScaler ile standartlastirma islemi\n",
    "\n",
    "from sklearn.preprocessing import MinMaxScaler"
   ]
  },
  {
   "cell_type": "code",
   "execution_count": 11,
   "metadata": {},
   "outputs": [],
   "source": [
    "# Standarlastirilmis tüm degerlerin 0 ile 1 arasinda olmasini istiyoruz\n",
    "\n",
    "sc = MinMaxScaler((0,1))"
   ]
  },
  {
   "cell_type": "code",
   "execution_count": 12,
   "metadata": {},
   "outputs": [],
   "source": [
    "df = sc.fit_transform(df)"
   ]
  },
  {
   "cell_type": "code",
   "execution_count": 13,
   "metadata": {
    "collapsed": true,
    "jupyter": {
     "outputs_hidden": true
    }
   },
   "outputs": [
    {
     "data": {
      "text/plain": [
       "array([[0.74698795, 0.65410959, 0.44067797, 0.35917313],\n",
       "       [0.55421687, 0.74657534, 0.27118644, 0.96124031],\n",
       "       [0.43975904, 0.85273973, 0.81355932, 0.6124031 ],\n",
       "       [0.48192771, 0.49657534, 0.30508475, 0.31524548],\n",
       "       [0.4939759 , 0.79109589, 1.        , 0.86046512],\n",
       "       [0.42771084, 0.54452055, 0.77966102, 0.81136951],\n",
       "       [0.15060241, 0.22260274, 0.76271186, 0.09819121],\n",
       "       [0.30722892, 0.6609589 , 0.6779661 , 0.21963824],\n",
       "       [0.87951807, 0.99315068, 0.81355932, 0.63565891],\n",
       "       [1.        , 0.56849315, 0.47457627, 0.47803618],\n",
       "       [0.27108434, 0.00342466, 0.86440678, 0.33333333],\n",
       "       [0.10843373, 0.25684932, 0.37288136, 0.17829457],\n",
       "       [0.57831325, 0.69863014, 0.86440678, 0.43152455],\n",
       "       [0.38554217, 0.23287671, 0.55932203, 0.35400517],\n",
       "       [0.08433735, 0.03767123, 0.42372881, 0.10335917],\n",
       "       [0.31325301, 0.23972603, 0.57627119, 0.27648579],\n",
       "       [0.53614458, 0.21917808, 0.33898305, 0.23255814],\n",
       "       [0.87951807, 0.69863014, 0.57627119, 0.38501292],\n",
       "       [0.07831325, 0.13013699, 0.3220339 , 0.0129199 ],\n",
       "       [0.63253012, 0.87328767, 0.59322034, 0.52971576],\n",
       "       [0.21686747, 0.35616438, 0.89830508, 0.23255814],\n",
       "       [0.68072289, 0.71917808, 0.71186441, 0.71834625],\n",
       "       [0.11445783, 0.09246575, 0.57627119, 0.19638243],\n",
       "       [0.92168675, 0.73287671, 0.20338983, 0.25322997],\n",
       "       [0.4939759 , 0.45547945, 0.6440678 , 0.54005168],\n",
       "       [0.31325301, 0.21917808, 0.3559322 , 0.23514212],\n",
       "       [0.21084337, 0.19520548, 0.50847458, 0.2377261 ],\n",
       "       [0.68674699, 0.70890411, 0.83050847, 1.        ],\n",
       "       [0.07831325, 0.04109589, 0.40677966, 0.05684755],\n",
       "       [0.39759036, 0.39041096, 0.96610169, 0.29715762],\n",
       "       [0.63855422, 0.82191781, 0.6440678 , 0.64082687],\n",
       "       [0.62048193, 0.71575342, 0.91525424, 0.48578811],\n",
       "       [0.73493976, 1.        , 0.22033898, 0.22739018],\n",
       "       [0.        , 0.        , 0.20338983, 0.        ],\n",
       "       [0.39156627, 0.25684932, 0.72881356, 0.36434109],\n",
       "       [0.34939759, 0.3630137 , 0.61016949, 0.32816537],\n",
       "       [0.24698795, 0.39041096, 0.59322034, 0.56847545],\n",
       "       [0.3313253 , 0.20890411, 0.6779661 , 0.19638243],\n",
       "       [0.15662651, 0.44178082, 0.93220339, 0.02583979],\n",
       "       [0.81927711, 0.80136986, 0.27118644, 0.39276486],\n",
       "       [0.18072289, 0.14041096, 0.22033898, 0.14211886],\n",
       "       [0.74698795, 0.48972603, 0.45762712, 0.50645995],\n",
       "       [0.71686747, 0.53424658, 0.81355932, 0.47028424],\n",
       "       [0.14457831, 0.25684932, 0.81355932, 0.40310078],\n",
       "       [0.08433735, 0.01027397, 0.        , 0.10077519],\n",
       "       [0.46385542, 0.38013699, 0.52542373, 0.34625323],\n",
       "       [0.19277108, 0.34246575, 0.69491525, 0.48837209],\n",
       "       [0.29518072, 0.12328767, 0.11864407, 0.05167959],\n",
       "       [0.10843373, 0.02739726, 0.57627119, 0.09043928],\n",
       "       [0.36144578, 0.39726027, 0.47457627, 0.21447028]])"
      ]
     },
     "execution_count": 13,
     "metadata": {},
     "output_type": "execute_result"
    }
   ],
   "source": [
    "df "
   ]
  },
  {
   "cell_type": "markdown",
   "metadata": {},
   "source": [
    "### K-Means "
   ]
  },
  {
   "cell_type": "code",
   "execution_count": 14,
   "metadata": {},
   "outputs": [],
   "source": [
    "# Yukarida belirttigimiz gibi n_clusters i basta biz belirliyoruz\n",
    "# Istedigimiz makul bir sayi verebiliriz. Islem sonunda ideal clusstera ulasacagiz\n",
    "# Burada modeli olusturuyoruz\n",
    "\n",
    "kmeans = KMeans(n_clusters = 4)"
   ]
  },
  {
   "cell_type": "code",
   "execution_count": 15,
   "metadata": {},
   "outputs": [
    {
     "data": {
      "text/plain": [
       "KMeans(n_clusters=4)"
      ]
     },
     "execution_count": 15,
     "metadata": {},
     "output_type": "execute_result"
    }
   ],
   "source": [
    "kmeans"
   ]
  },
  {
   "cell_type": "code",
   "execution_count": 16,
   "metadata": {},
   "outputs": [],
   "source": [
    "# kmeans i veri setine fit ediyoruz\n",
    "\n",
    "k_fit = kmeans.fit(df)"
   ]
  },
  {
   "cell_type": "code",
   "execution_count": 17,
   "metadata": {},
   "outputs": [
    {
     "data": {
      "text/plain": [
       "KMeans(n_clusters=4)"
      ]
     },
     "execution_count": 17,
     "metadata": {},
     "output_type": "execute_result"
    }
   ],
   "source": [
    "k_fit"
   ]
  },
  {
   "cell_type": "code",
   "execution_count": 18,
   "metadata": {},
   "outputs": [
    {
     "data": {
      "text/plain": [
       "4"
      ]
     },
     "execution_count": 18,
     "metadata": {},
     "output_type": "execute_result"
    }
   ],
   "source": [
    "k_fit.n_clusters"
   ]
  },
  {
   "cell_type": "code",
   "execution_count": 19,
   "metadata": {},
   "outputs": [
    {
     "data": {
      "text/plain": [
       "array([1, 3, 3, 1, 3, 3, 0, 0, 3, 1, 0, 2, 3, 0, 2, 0, 2, 1, 2, 3, 0, 3,\n",
       "       2, 1, 0, 2, 2, 3, 2, 0, 3, 3, 1, 2, 0, 0, 0, 0, 0, 1, 2, 1, 3, 0,\n",
       "       2, 0, 0, 2, 2, 0])"
      ]
     },
     "execution_count": 19,
     "metadata": {},
     "output_type": "execute_result"
    }
   ],
   "source": [
    "# Her yeni calismada farkli sonuclar cikiyor\n",
    "# Cluster larin labellari. 4 clusterimiz var. Bunlar 0, 1, 2 ve 3\n",
    "k_fit.labels_"
   ]
  },
  {
   "cell_type": "markdown",
   "metadata": {},
   "source": [
    "# Kümelerin Görselleştirilmesi\n",
    "\n",
    "- Bunu görsellestirme örnegi olarak yapiyoruz. Yukaridaki islemin devami degil.\n"
   ]
  },
  {
   "cell_type": "code",
   "execution_count": 20,
   "metadata": {},
   "outputs": [],
   "source": [
    "k_means = KMeans(n_clusters = 2).fit(df)"
   ]
  },
  {
   "cell_type": "code",
   "execution_count": 21,
   "metadata": {},
   "outputs": [],
   "source": [
    "kumeler = k_means.labels_"
   ]
  },
  {
   "cell_type": "code",
   "execution_count": 22,
   "metadata": {},
   "outputs": [
    {
     "data": {
      "text/plain": [
       "array([1, 1, 1, 0, 1, 1, 0, 0, 1, 1, 0, 0, 1, 0, 0, 0, 0, 1, 0, 1, 0, 1,\n",
       "       0, 1, 1, 0, 0, 1, 0, 0, 1, 1, 1, 0, 0, 0, 0, 0, 0, 1, 0, 1, 1, 0,\n",
       "       0, 0, 0, 0, 0, 0])"
      ]
     },
     "execution_count": 22,
     "metadata": {},
     "output_type": "execute_result"
    }
   ],
   "source": [
    "kumeler"
   ]
  },
  {
   "cell_type": "code",
   "execution_count": 23,
   "metadata": {},
   "outputs": [],
   "source": [
    "# Asagidaki islemde df miz numpy array e dönebiliyor. O yüzden onu tekrar pandas data framee dönüstürüyoruz\n",
    "# numpy array olsaydi asagidaki görsellestirme codu hata verirdi\n",
    "\n",
    "df = pd.DataFrame(df)"
   ]
  },
  {
   "cell_type": "code",
   "execution_count": 24,
   "metadata": {},
   "outputs": [
    {
     "data": {
      "image/png": "[encoded data removed]",
      "text/plain": [
       "<Figure size 432x288 with 1 Axes>"
      ]
     },
     "metadata": {
      "needs_background": "light"
     },
     "output_type": "display_data"
    }
   ],
   "source": [
    "# Scater plot ile görsellestirme yapacagiz\n",
    "# [:,0] df in icindeki bütün gözlem birimleri ve 1. degisken secimi icin\n",
    "# [:,0] df in icindeki bütün gözlem birimleri ve 2. degisken secimi icin\n",
    "# c isimli parametre kümeler parametremiz olacak. 0 ve 1 nolu kümeleri icin. 2 kümemiz var\n",
    "# islemi iloc ile yapiyoruz. Bu pandas data frame ile kullanilir. Numpy array ile kullanilmaz\n",
    "# Asagidaki islemi 3 küme ile yapabiliriz ancak 4 küme icin yapamayiz\n",
    "\n",
    "plt.scatter(df.iloc[:,0], df.iloc[:,1], c = kumeler, s = 50, cmap = \"viridis\");"
   ]
  },
  {
   "cell_type": "code",
   "execution_count": 25,
   "metadata": {},
   "outputs": [],
   "source": [
    "# Clusterin merkezlerini bu görsellere yerlestirme islemi\n",
    "\n",
    "merkezler = k_means.cluster_centers_"
   ]
  },
  {
   "cell_type": "code",
   "execution_count": 26,
   "metadata": {},
   "outputs": [
    {
     "data": {
      "image/png": "[encoded data removed]",
      "text/plain": [
       "<Figure size 432x288 with 1 Axes>"
      ]
     },
     "metadata": {
      "needs_background": "light"
     },
     "output_type": "display_data"
    }
   ],
   "source": [
    "plt.scatter(df.iloc[:,0], df.iloc[:,1], c = kumeler, s = 50, cmap = \"viridis\")\n",
    "plt.scatter(merkezler[:,0], merkezler[:,1], c = \"black\", s = 200, alpha=0.5);"
   ]
  },
  {
   "cell_type": "code",
   "execution_count": null,
   "metadata": {},
   "outputs": [],
   "source": [
    "# 20 degiskeni 2 boyutta göstermek isterseniz 'pca' ile yapabilirsiniz. Boyut indirgeme yapip bunu iki eksende göstermek istiyorsaniz, cluster sayisinin önemi yok. Veriyi iki boyuta indirgerseniz bu islemi yapabilirsiniz. \n",
    "# Bu temel bilesen analizinde olabilir (Principal Component Analysis)"
   ]
  },
  {
   "cell_type": "markdown",
   "metadata": {},
   "source": [
    "# Optimum Küme Sayısının Belirlenmesi"
   ]
  },
  {
   "cell_type": "code",
   "execution_count": 27,
   "metadata": {},
   "outputs": [
    {
     "data": {
      "text/plain": [
       "array([1, 1, 1, 0, 1, 1, 0, 0, 1, 1, 0, 0, 1, 0, 0, 0, 0, 1, 0, 1, 0, 1,\n",
       "       0, 1, 1, 0, 0, 1, 0, 0, 1, 1, 1, 0, 0, 0, 0, 0, 0, 1, 0, 1, 1, 0,\n",
       "       0, 0, 0, 0, 0, 0])"
      ]
     },
     "execution_count": 27,
     "metadata": {},
     "output_type": "execute_result"
    }
   ],
   "source": [
    "kmeans = KMeans(n_clusters = 4)\n",
    "k_fit = kmeans.fit(df)\n",
    "kumeler"
   ]
  },
  {
   "cell_type": "code",
   "execution_count": 28,
   "metadata": {
    "collapsed": true,
    "jupyter": {
     "outputs_hidden": true
    }
   },
   "outputs": [
    {
     "data": {
      "text/plain": [
       "\u001b[1;31mType:\u001b[0m        KMeans\n",
       "\u001b[1;31mString form:\u001b[0m KMeans(n_clusters=4)\n",
       "\u001b[1;31mFile:\u001b[0m        c:\\users\\toshiba\\anaconda3\\lib\\site-packages\\sklearn\\cluster\\_kmeans.py\n",
       "\u001b[1;31mDocstring:\u001b[0m  \n",
       "K-Means clustering.\n",
       "\n",
       "Read more in the :ref:`User Guide <k_means>`.\n",
       "\n",
       "Parameters\n",
       "----------\n",
       "\n",
       "n_clusters : int, default=8\n",
       "    The number of clusters to form as well as the number of\n",
       "    centroids to generate.\n",
       "\n",
       "init : {'k-means++', 'random', ndarray, callable}, default='k-means++'\n",
       "    Method for initialization:\n",
       "\n",
       "    'k-means++' : selects initial cluster centers for k-mean\n",
       "    clustering in a smart way to speed up convergence. See section\n",
       "    Notes in k_init for more details.\n",
       "\n",
       "    'random': choose `n_clusters` observations (rows) at random from data\n",
       "    for the initial centroids.\n",
       "\n",
       "    If an ndarray is passed, it should be of shape (n_clusters, n_features)\n",
       "    and gives the initial centers.\n",
       "\n",
       "    If a callable is passed, it should take arguments X, n_clusters and a\n",
       "    random state and return an initialization.\n",
       "\n",
       "n_init : int, default=10\n",
       "    Number of time the k-means algorithm will be run with different\n",
       "    centroid seeds. The final results will be the best output of\n",
       "    n_init consecutive runs in terms of inertia.\n",
       "\n",
       "max_iter : int, default=300\n",
       "    Maximum number of iterations of the k-means algorithm for a\n",
       "    single run.\n",
       "\n",
       "tol : float, default=1e-4\n",
       "    Relative tolerance with regards to Frobenius norm of the difference\n",
       "    in the cluster centers of two consecutive iterations to declare\n",
       "    convergence.\n",
       "    It's not advised to set `tol=0` since convergence might never be\n",
       "    declared due to rounding errors. Use a very small number instead.\n",
       "\n",
       "precompute_distances : {'auto', True, False}, default='auto'\n",
       "    Precompute distances (faster but takes more memory).\n",
       "\n",
       "    'auto' : do not precompute distances if n_samples * n_clusters > 12\n",
       "    million. This corresponds to about 100MB overhead per job using\n",
       "    double precision.\n",
       "\n",
       "    True : always precompute distances.\n",
       "\n",
       "    False : never precompute distances.\n",
       "\n",
       "    .. deprecated:: 0.23\n",
       "        'precompute_distances' was deprecated in version 0.22 and will be\n",
       "        removed in 0.25. It has no effect.\n",
       "\n",
       "verbose : int, default=0\n",
       "    Verbosity mode.\n",
       "\n",
       "random_state : int, RandomState instance, default=None\n",
       "    Determines random number generation for centroid initialization. Use\n",
       "    an int to make the randomness deterministic.\n",
       "    See :term:`Glossary <random_state>`.\n",
       "\n",
       "copy_x : bool, default=True\n",
       "    When pre-computing distances it is more numerically accurate to center\n",
       "    the data first. If copy_x is True (default), then the original data is\n",
       "    not modified. If False, the original data is modified, and put back\n",
       "    before the function returns, but small numerical differences may be\n",
       "    introduced by subtracting and then adding the data mean. Note that if\n",
       "    the original data is not C-contiguous, a copy will be made even if\n",
       "    copy_x is False. If the original data is sparse, but not in CSR format,\n",
       "    a copy will be made even if copy_x is False.\n",
       "\n",
       "n_jobs : int, default=None\n",
       "    The number of OpenMP threads to use for the computation. Parallelism is\n",
       "    sample-wise on the main cython loop which assigns each sample to its\n",
       "    closest center.\n",
       "\n",
       "    ``None`` or ``-1`` means using all processors.\n",
       "\n",
       "    .. deprecated:: 0.23\n",
       "        ``n_jobs`` was deprecated in version 0.23 and will be removed in\n",
       "        0.25.\n",
       "\n",
       "algorithm : {\"auto\", \"full\", \"elkan\"}, default=\"auto\"\n",
       "    K-means algorithm to use. The classical EM-style algorithm is \"full\".\n",
       "    The \"elkan\" variation is more efficient on data with well-defined\n",
       "    clusters, by using the triangle inequality. However it's more memory\n",
       "    intensive due to the allocation of an extra array of shape\n",
       "    (n_samples, n_clusters).\n",
       "\n",
       "    For now \"auto\" (kept for backward compatibiliy) chooses \"elkan\" but it\n",
       "    might change in the future for a better heuristic.\n",
       "\n",
       "    .. versionchanged:: 0.18\n",
       "        Added Elkan algorithm\n",
       "\n",
       "Attributes\n",
       "----------\n",
       "cluster_centers_ : ndarray of shape (n_clusters, n_features)\n",
       "    Coordinates of cluster centers. If the algorithm stops before fully\n",
       "    converging (see ``tol`` and ``max_iter``), these will not be\n",
       "    consistent with ``labels_``.\n",
       "\n",
       "labels_ : ndarray of shape (n_samples,)\n",
       "    Labels of each point\n",
       "\n",
       "inertia_ : float\n",
       "    Sum of squared distances of samples to their closest cluster center.\n",
       "\n",
       "n_iter_ : int\n",
       "    Number of iterations run.\n",
       "\n",
       "See also\n",
       "--------\n",
       "\n",
       "MiniBatchKMeans\n",
       "    Alternative online implementation that does incremental updates\n",
       "    of the centers positions using mini-batches.\n",
       "    For large scale learning (say n_samples > 10k) MiniBatchKMeans is\n",
       "    probably much faster than the default batch implementation.\n",
       "\n",
       "Notes\n",
       "-----\n",
       "The k-means problem is solved using either Lloyd's or Elkan's algorithm.\n",
       "\n",
       "The average complexity is given by O(k n T), were n is the number of\n",
       "samples and T is the number of iteration.\n",
       "\n",
       "The worst case complexity is given by O(n^(k+2/p)) with\n",
       "n = n_samples, p = n_features. (D. Arthur and S. Vassilvitskii,\n",
       "'How slow is the k-means method?' SoCG2006)\n",
       "\n",
       "In practice, the k-means algorithm is very fast (one of the fastest\n",
       "clustering algorithms available), but it falls in local minima. That's why\n",
       "it can be useful to restart it several times.\n",
       "\n",
       "If the algorithm stops before fully converging (because of ``tol`` or\n",
       "``max_iter``), ``labels_`` and ``cluster_centers_`` will not be consistent,\n",
       "i.e. the ``cluster_centers_`` will not be the means of the points in each\n",
       "cluster. Also, the estimator will reassign ``labels_`` after the last\n",
       "iteration to make ``labels_`` consistent with ``predict`` on the training\n",
       "set.\n",
       "\n",
       "Examples\n",
       "--------\n",
       "\n",
       ">>> from sklearn.cluster import KMeans\n",
       ">>> import numpy as np\n",
       ">>> X = np.array([[1, 2], [1, 4], [1, 0],\n",
       "...               [10, 2], [10, 4], [10, 0]])\n",
       ">>> kmeans = KMeans(n_clusters=2, random_state=0).fit(X)\n",
       ">>> kmeans.labels_\n",
       "array([1, 1, 1, 0, 0, 0], dtype=int32)\n",
       ">>> kmeans.predict([[0, 0], [12, 3]])\n",
       "array([1, 0], dtype=int32)\n",
       ">>> kmeans.cluster_centers_\n",
       "array([[10.,  2.],\n",
       "       [ 1.,  2.]])\n"
      ]
     },
     "metadata": {},
     "output_type": "display_data"
    }
   ],
   "source": [
    "?k_fit"
   ]
  },
  {
   "cell_type": "code",
   "execution_count": 29,
   "metadata": {},
   "outputs": [],
   "source": [
    "# KÜME SAYISINI BELIRLEME\n",
    "# Burada olmasi gereken cluster sayisini bulmak icin islemler yapacagiz\n",
    "# ideal k sayisini 1 ile 30 arasinda arayacagiz. Bu sayi muhtemelen duruma göre degisebilir.\n",
    "# Sonra herbir k degeri icin bir kmeans modeli kur\n",
    "#Sonra fit et.\n",
    "#sonra ssd nin icerisine bu kmeans nesnesi icerisinde yer alan inertia degerini at\n",
    "# ssd sum of squared distances\n",
    "# inertia_ : float\n",
    "#Sum of squared distances of samples to their closest cluster center.\n",
    "\n",
    "\n",
    "ssd = []\n",
    "\n",
    "K = range(1,30)\n",
    "\n",
    "for k in K:\n",
    "    kmeans = KMeans(n_clusters = k).fit(df)\n",
    "    ssd.append(kmeans.inertia_)"
   ]
  },
  {
   "cell_type": "code",
   "execution_count": 30,
   "metadata": {
    "collapsed": true,
    "jupyter": {
     "outputs_hidden": true
    }
   },
   "outputs": [
    {
     "data": {
      "text/plain": [
       "[13.18412255025645,\n",
       " 6.596893867946199,\n",
       " 5.01087849300642,\n",
       " 3.683456153585915,\n",
       " 3.1842618139677223,\n",
       " 2.858072353835629,\n",
       " 2.61523033032313,\n",
       " 2.3240579857248087,\n",
       " 2.1210146193494825,\n",
       " 1.9084888229135109,\n",
       " 1.696358298234152,\n",
       " 1.5305333887463441,\n",
       " 1.4004380053585999,\n",
       " 1.2812904550489779,\n",
       " 1.2299383161886412,\n",
       " 1.0889206214173512,\n",
       " 1.0565129679592289,\n",
       " 1.0473659122726233,\n",
       " 0.9437279517445093,\n",
       " 0.8434766259721768,\n",
       " 0.7610655167792616,\n",
       " 0.755985376136911,\n",
       " 0.7029036088039624,\n",
       " 0.6509416944044191,\n",
       " 0.618554758609829,\n",
       " 0.55802354408319,\n",
       " 0.48628855453014375,\n",
       " 0.4394828077777626,\n",
       " 0.3945431026685208]"
      ]
     },
     "execution_count": 30,
     "metadata": {},
     "output_type": "execute_result"
    }
   ],
   "source": [
    "# düsük olan ssd degeri iyidir\n",
    "\n",
    "ssd"
   ]
  },
  {
   "cell_type": "code",
   "execution_count": 31,
   "metadata": {},
   "outputs": [
    {
     "data": {
      "text/plain": [
       "Text(0.5, 1.0, 'Optimum Küme sayısı için Elbow Yöntemi')"
      ]
     },
     "execution_count": 31,
     "metadata": {},
     "output_type": "execute_result"
    },
    {
     "data": {
      "image/png": "[encoded data removed]",
      "text/plain": [
       "<Figure size 432x288 with 1 Axes>"
      ]
     },
     "metadata": {
      "needs_background": "light"
     },
     "output_type": "display_data"
    }
   ],
   "source": [
    "# Elbow yöntemi ile görsel üzerinden küme sayisi belirleme\n",
    "# Egimin en hizli degistigi, dirseklendigi nokta küme sayisini gösterir\n",
    "\n",
    "\n",
    "plt.plot(K, ssd, \"bx-\")\n",
    "plt.xlabel(\"Farklı K Değerlerine Karşılık Uzaklık Artık Toplamları\")\n",
    "plt.title(\"Optimum Küme sayısı için Elbow Yöntemi\")"
   ]
  },
  {
   "cell_type": "code",
   "execution_count": 32,
   "metadata": {
    "collapsed": true,
    "jupyter": {
     "outputs_hidden": true
    }
   },
   "outputs": [
    {
     "name": "stdout",
     "output_type": "stream",
     "text": [
      "Requirement already satisfied: yellowbrick in c:\\users\\toshiba\\anaconda3\\lib\\site-packages (1.2)\n",
      "Requirement already satisfied: matplotlib!=3.0.0,>=2.0.2 in c:\\users\\toshiba\\anaconda3\\lib\\site-packages (from yellowbrick) (3.2.2)\n",
      "Requirement already satisfied: cycler>=0.10.0 in c:\\users\\toshiba\\anaconda3\\lib\\site-packages (from yellowbrick) (0.10.0)\n",
      "Requirement already satisfied: scikit-learn>=0.20 in c:\\users\\toshiba\\anaconda3\\lib\\site-packages (from yellowbrick) (0.23.1)\n",
      "Requirement already satisfied: numpy>=1.13.0 in c:\\users\\toshiba\\anaconda3\\lib\\site-packages (from yellowbrick) (1.18.5)\n",
      "Requirement already satisfied: scipy>=1.0.0 in c:\\users\\toshiba\\anaconda3\\lib\\site-packages (from yellowbrick) (1.5.0)\n",
      "Requirement already satisfied: pyparsing!=2.0.4,!=2.1.2,!=2.1.6,>=2.0.1 in c:\\users\\toshiba\\anaconda3\\lib\\site-packages (from matplotlib!=3.0.0,>=2.0.2->yellowbrick) (2.4.7)\n",
      "Requirement already satisfied: python-dateutil>=2.1 in c:\\users\\toshiba\\anaconda3\\lib\\site-packages (from matplotlib!=3.0.0,>=2.0.2->yellowbrick) (2.8.1)\n",
      "Requirement already satisfied: kiwisolver>=1.0.1 in c:\\users\\toshiba\\anaconda3\\lib\\site-packages (from matplotlib!=3.0.0,>=2.0.2->yellowbrick) (1.2.0)\n",
      "Requirement already satisfied: six in c:\\users\\toshiba\\anaconda3\\lib\\site-packages (from cycler>=0.10.0->yellowbrick) (1.15.0)\n",
      "Requirement already satisfied: threadpoolctl>=2.0.0 in c:\\users\\toshiba\\anaconda3\\lib\\site-packages (from scikit-learn>=0.20->yellowbrick) (2.1.0)\n",
      "Requirement already satisfied: joblib>=0.11 in c:\\users\\toshiba\\anaconda3\\lib\\site-packages (from scikit-learn>=0.20->yellowbrick) (0.16.0)\n"
     ]
    }
   ],
   "source": [
    "# Yukaridaki islemde küme sayisini gözle belirliyorduk. Ancak asagidaki islem bize net sonuc veriyor\n",
    "# Önce kütüphaneyi indirecegiz\n",
    "\n",
    "!pip install yellowbrick"
   ]
  },
  {
   "cell_type": "code",
   "execution_count": 33,
   "metadata": {},
   "outputs": [],
   "source": [
    "from yellowbrick.cluster import KElbowVisualizer"
   ]
  },
  {
   "cell_type": "code",
   "execution_count": 34,
   "metadata": {},
   "outputs": [
    {
     "data": {
      "image/png": "[encoded data removed]",
      "text/plain": [
       "<Figure size 576x396 with 2 Axes>"
      ]
     },
     "metadata": {},
     "output_type": "display_data"
    }
   ],
   "source": [
    "kmeans = KMeans()\n",
    "visu = KElbowVisualizer(kmeans, k = (2,20))\n",
    "visu.fit(df)\n",
    "visu.poof();"
   ]
  },
  {
   "cell_type": "code",
   "execution_count": 35,
   "metadata": {},
   "outputs": [
    {
     "data": {
      "text/plain": [
       "KMeans(n_clusters=6)"
      ]
     },
     "execution_count": 35,
     "metadata": {},
     "output_type": "execute_result"
    }
   ],
   "source": [
    "# Yukaridaki islem bize 6 küme önerdi\n",
    "# Simdi Final kmeans modelini fit edecegiz. \n",
    "\n",
    "kmeans = KMeans(n_clusters = 6).fit(df)\n",
    "kmeans"
   ]
  },
  {
   "cell_type": "code",
   "execution_count": 36,
   "metadata": {},
   "outputs": [],
   "source": [
    "kumeler = kmeans.labels_"
   ]
  },
  {
   "cell_type": "code",
   "execution_count": 37,
   "metadata": {},
   "outputs": [
    {
     "data": {
      "text/plain": [
       "array([2, 5, 0, 4, 5, 5, 3, 4, 0, 2, 3, 1, 0, 4, 1, 4, 4, 2, 1, 0, 3, 0,\n",
       "       1, 2, 4, 1, 1, 5, 1, 3, 0, 0, 2, 1, 3, 4, 4, 3, 3, 2, 1, 2, 0, 3,\n",
       "       1, 4, 4, 1, 1, 4])"
      ]
     },
     "execution_count": 37,
     "metadata": {},
     "output_type": "execute_result"
    }
   ],
   "source": [
    "kumeler"
   ]
  },
  {
   "cell_type": "code",
   "execution_count": null,
   "metadata": {},
   "outputs": [],
   "source": [
    "- Eyaletlerin hangi kümeler icinde yer aldigini görmek icin\n",
    "- en bastaki orjinal df yi tekrar calistirip yeni ilslem yapacagiz."
   ]
  },
  {
   "cell_type": "code",
   "execution_count": 38,
   "metadata": {},
   "outputs": [
    {
     "data": {
      "text/html": [
       "<div>\n",
       "<style scoped>\n",
       "    .dataframe tbody tr th:only-of-type {\n",
       "        vertical-align: middle;\n",
       "    }\n",
       "\n",
       "    .dataframe tbody tr th {\n",
       "        vertical-align: top;\n",
       "    }\n",
       "\n",
       "    .dataframe thead th {\n",
       "        text-align: right;\n",
       "    }\n",
       "</style>\n",
       "<table border=\"1\" class=\"dataframe\">\n",
       "  <thead>\n",
       "    <tr style=\"text-align: right;\">\n",
       "      <th></th>\n",
       "      <th>Murder</th>\n",
       "      <th>Assault</th>\n",
       "      <th>UrbanPop</th>\n",
       "      <th>Rape</th>\n",
       "    </tr>\n",
       "  </thead>\n",
       "  <tbody>\n",
       "    <tr>\n",
       "      <th>Alabama</th>\n",
       "      <td>13.2</td>\n",
       "      <td>236</td>\n",
       "      <td>58</td>\n",
       "      <td>21.2</td>\n",
       "    </tr>\n",
       "    <tr>\n",
       "      <th>Alaska</th>\n",
       "      <td>10.0</td>\n",
       "      <td>263</td>\n",
       "      <td>48</td>\n",
       "      <td>44.5</td>\n",
       "    </tr>\n",
       "    <tr>\n",
       "      <th>Arizona</th>\n",
       "      <td>8.1</td>\n",
       "      <td>294</td>\n",
       "      <td>80</td>\n",
       "      <td>31.0</td>\n",
       "    </tr>\n",
       "    <tr>\n",
       "      <th>Arkansas</th>\n",
       "      <td>8.8</td>\n",
       "      <td>190</td>\n",
       "      <td>50</td>\n",
       "      <td>19.5</td>\n",
       "    </tr>\n",
       "    <tr>\n",
       "      <th>California</th>\n",
       "      <td>9.0</td>\n",
       "      <td>276</td>\n",
       "      <td>91</td>\n",
       "      <td>40.6</td>\n",
       "    </tr>\n",
       "  </tbody>\n",
       "</table>\n",
       "</div>"
      ],
      "text/plain": [
       "            Murder  Assault  UrbanPop  Rape\n",
       "Alabama       13.2      236        58  21.2\n",
       "Alaska        10.0      263        48  44.5\n",
       "Arizona        8.1      294        80  31.0\n",
       "Arkansas       8.8      190        50  19.5\n",
       "California     9.0      276        91  40.6"
      ]
     },
     "execution_count": 38,
     "metadata": {},
     "output_type": "execute_result"
    }
   ],
   "source": [
    "df = pd.read_csv(\"./USArrests.csv\", index_col = 0)\n",
    "df.head()"
   ]
  },
  {
   "cell_type": "code",
   "execution_count": 39,
   "metadata": {
    "collapsed": true,
    "jupyter": {
     "outputs_hidden": true
    }
   },
   "outputs": [
    {
     "data": {
      "text/html": [
       "<div>\n",
       "<style scoped>\n",
       "    .dataframe tbody tr th:only-of-type {\n",
       "        vertical-align: middle;\n",
       "    }\n",
       "\n",
       "    .dataframe tbody tr th {\n",
       "        vertical-align: top;\n",
       "    }\n",
       "\n",
       "    .dataframe thead th {\n",
       "        text-align: right;\n",
       "    }\n",
       "</style>\n",
       "<table border=\"1\" class=\"dataframe\">\n",
       "  <thead>\n",
       "    <tr style=\"text-align: right;\">\n",
       "      <th></th>\n",
       "      <th>Eyaletler</th>\n",
       "      <th>Kumeler</th>\n",
       "    </tr>\n",
       "  </thead>\n",
       "  <tbody>\n",
       "    <tr>\n",
       "      <th>0</th>\n",
       "      <td>Alabama</td>\n",
       "      <td>2</td>\n",
       "    </tr>\n",
       "    <tr>\n",
       "      <th>1</th>\n",
       "      <td>Alaska</td>\n",
       "      <td>5</td>\n",
       "    </tr>\n",
       "    <tr>\n",
       "      <th>2</th>\n",
       "      <td>Arizona</td>\n",
       "      <td>0</td>\n",
       "    </tr>\n",
       "    <tr>\n",
       "      <th>3</th>\n",
       "      <td>Arkansas</td>\n",
       "      <td>4</td>\n",
       "    </tr>\n",
       "    <tr>\n",
       "      <th>4</th>\n",
       "      <td>California</td>\n",
       "      <td>5</td>\n",
       "    </tr>\n",
       "    <tr>\n",
       "      <th>5</th>\n",
       "      <td>Colorado</td>\n",
       "      <td>5</td>\n",
       "    </tr>\n",
       "    <tr>\n",
       "      <th>6</th>\n",
       "      <td>Connecticut</td>\n",
       "      <td>3</td>\n",
       "    </tr>\n",
       "    <tr>\n",
       "      <th>7</th>\n",
       "      <td>Delaware</td>\n",
       "      <td>4</td>\n",
       "    </tr>\n",
       "    <tr>\n",
       "      <th>8</th>\n",
       "      <td>Florida</td>\n",
       "      <td>0</td>\n",
       "    </tr>\n",
       "    <tr>\n",
       "      <th>9</th>\n",
       "      <td>Georgia</td>\n",
       "      <td>2</td>\n",
       "    </tr>\n",
       "    <tr>\n",
       "      <th>10</th>\n",
       "      <td>Hawaii</td>\n",
       "      <td>3</td>\n",
       "    </tr>\n",
       "    <tr>\n",
       "      <th>11</th>\n",
       "      <td>Idaho</td>\n",
       "      <td>1</td>\n",
       "    </tr>\n",
       "    <tr>\n",
       "      <th>12</th>\n",
       "      <td>Illinois</td>\n",
       "      <td>0</td>\n",
       "    </tr>\n",
       "    <tr>\n",
       "      <th>13</th>\n",
       "      <td>Indiana</td>\n",
       "      <td>4</td>\n",
       "    </tr>\n",
       "    <tr>\n",
       "      <th>14</th>\n",
       "      <td>Iowa</td>\n",
       "      <td>1</td>\n",
       "    </tr>\n",
       "    <tr>\n",
       "      <th>15</th>\n",
       "      <td>Kansas</td>\n",
       "      <td>4</td>\n",
       "    </tr>\n",
       "    <tr>\n",
       "      <th>16</th>\n",
       "      <td>Kentucky</td>\n",
       "      <td>4</td>\n",
       "    </tr>\n",
       "    <tr>\n",
       "      <th>17</th>\n",
       "      <td>Louisiana</td>\n",
       "      <td>2</td>\n",
       "    </tr>\n",
       "    <tr>\n",
       "      <th>18</th>\n",
       "      <td>Maine</td>\n",
       "      <td>1</td>\n",
       "    </tr>\n",
       "    <tr>\n",
       "      <th>19</th>\n",
       "      <td>Maryland</td>\n",
       "      <td>0</td>\n",
       "    </tr>\n",
       "    <tr>\n",
       "      <th>20</th>\n",
       "      <td>Massachusetts</td>\n",
       "      <td>3</td>\n",
       "    </tr>\n",
       "    <tr>\n",
       "      <th>21</th>\n",
       "      <td>Michigan</td>\n",
       "      <td>0</td>\n",
       "    </tr>\n",
       "    <tr>\n",
       "      <th>22</th>\n",
       "      <td>Minnesota</td>\n",
       "      <td>1</td>\n",
       "    </tr>\n",
       "    <tr>\n",
       "      <th>23</th>\n",
       "      <td>Mississippi</td>\n",
       "      <td>2</td>\n",
       "    </tr>\n",
       "    <tr>\n",
       "      <th>24</th>\n",
       "      <td>Missouri</td>\n",
       "      <td>4</td>\n",
       "    </tr>\n",
       "    <tr>\n",
       "      <th>25</th>\n",
       "      <td>Montana</td>\n",
       "      <td>1</td>\n",
       "    </tr>\n",
       "    <tr>\n",
       "      <th>26</th>\n",
       "      <td>Nebraska</td>\n",
       "      <td>1</td>\n",
       "    </tr>\n",
       "    <tr>\n",
       "      <th>27</th>\n",
       "      <td>Nevada</td>\n",
       "      <td>5</td>\n",
       "    </tr>\n",
       "    <tr>\n",
       "      <th>28</th>\n",
       "      <td>New Hampshire</td>\n",
       "      <td>1</td>\n",
       "    </tr>\n",
       "    <tr>\n",
       "      <th>29</th>\n",
       "      <td>New Jersey</td>\n",
       "      <td>3</td>\n",
       "    </tr>\n",
       "    <tr>\n",
       "      <th>30</th>\n",
       "      <td>New Mexico</td>\n",
       "      <td>0</td>\n",
       "    </tr>\n",
       "    <tr>\n",
       "      <th>31</th>\n",
       "      <td>New York</td>\n",
       "      <td>0</td>\n",
       "    </tr>\n",
       "    <tr>\n",
       "      <th>32</th>\n",
       "      <td>North Carolina</td>\n",
       "      <td>2</td>\n",
       "    </tr>\n",
       "    <tr>\n",
       "      <th>33</th>\n",
       "      <td>North Dakota</td>\n",
       "      <td>1</td>\n",
       "    </tr>\n",
       "    <tr>\n",
       "      <th>34</th>\n",
       "      <td>Ohio</td>\n",
       "      <td>3</td>\n",
       "    </tr>\n",
       "    <tr>\n",
       "      <th>35</th>\n",
       "      <td>Oklahoma</td>\n",
       "      <td>4</td>\n",
       "    </tr>\n",
       "    <tr>\n",
       "      <th>36</th>\n",
       "      <td>Oregon</td>\n",
       "      <td>4</td>\n",
       "    </tr>\n",
       "    <tr>\n",
       "      <th>37</th>\n",
       "      <td>Pennsylvania</td>\n",
       "      <td>3</td>\n",
       "    </tr>\n",
       "    <tr>\n",
       "      <th>38</th>\n",
       "      <td>Rhode Island</td>\n",
       "      <td>3</td>\n",
       "    </tr>\n",
       "    <tr>\n",
       "      <th>39</th>\n",
       "      <td>South Carolina</td>\n",
       "      <td>2</td>\n",
       "    </tr>\n",
       "    <tr>\n",
       "      <th>40</th>\n",
       "      <td>South Dakota</td>\n",
       "      <td>1</td>\n",
       "    </tr>\n",
       "    <tr>\n",
       "      <th>41</th>\n",
       "      <td>Tennessee</td>\n",
       "      <td>2</td>\n",
       "    </tr>\n",
       "    <tr>\n",
       "      <th>42</th>\n",
       "      <td>Texas</td>\n",
       "      <td>0</td>\n",
       "    </tr>\n",
       "    <tr>\n",
       "      <th>43</th>\n",
       "      <td>Utah</td>\n",
       "      <td>3</td>\n",
       "    </tr>\n",
       "    <tr>\n",
       "      <th>44</th>\n",
       "      <td>Vermont</td>\n",
       "      <td>1</td>\n",
       "    </tr>\n",
       "    <tr>\n",
       "      <th>45</th>\n",
       "      <td>Virginia</td>\n",
       "      <td>4</td>\n",
       "    </tr>\n",
       "    <tr>\n",
       "      <th>46</th>\n",
       "      <td>Washington</td>\n",
       "      <td>4</td>\n",
       "    </tr>\n",
       "    <tr>\n",
       "      <th>47</th>\n",
       "      <td>West Virginia</td>\n",
       "      <td>1</td>\n",
       "    </tr>\n",
       "    <tr>\n",
       "      <th>48</th>\n",
       "      <td>Wisconsin</td>\n",
       "      <td>1</td>\n",
       "    </tr>\n",
       "    <tr>\n",
       "      <th>49</th>\n",
       "      <td>Wyoming</td>\n",
       "      <td>4</td>\n",
       "    </tr>\n",
       "  </tbody>\n",
       "</table>\n",
       "</div>"
      ],
      "text/plain": [
       "         Eyaletler  Kumeler\n",
       "0          Alabama        2\n",
       "1           Alaska        5\n",
       "2          Arizona        0\n",
       "3         Arkansas        4\n",
       "4       California        5\n",
       "5         Colorado        5\n",
       "6      Connecticut        3\n",
       "7         Delaware        4\n",
       "8          Florida        0\n",
       "9          Georgia        2\n",
       "10          Hawaii        3\n",
       "11           Idaho        1\n",
       "12        Illinois        0\n",
       "13         Indiana        4\n",
       "14            Iowa        1\n",
       "15          Kansas        4\n",
       "16        Kentucky        4\n",
       "17       Louisiana        2\n",
       "18           Maine        1\n",
       "19        Maryland        0\n",
       "20   Massachusetts        3\n",
       "21        Michigan        0\n",
       "22       Minnesota        1\n",
       "23     Mississippi        2\n",
       "24        Missouri        4\n",
       "25         Montana        1\n",
       "26        Nebraska        1\n",
       "27          Nevada        5\n",
       "28   New Hampshire        1\n",
       "29      New Jersey        3\n",
       "30      New Mexico        0\n",
       "31        New York        0\n",
       "32  North Carolina        2\n",
       "33    North Dakota        1\n",
       "34            Ohio        3\n",
       "35        Oklahoma        4\n",
       "36          Oregon        4\n",
       "37    Pennsylvania        3\n",
       "38    Rhode Island        3\n",
       "39  South Carolina        2\n",
       "40    South Dakota        1\n",
       "41       Tennessee        2\n",
       "42           Texas        0\n",
       "43            Utah        3\n",
       "44         Vermont        1\n",
       "45        Virginia        4\n",
       "46      Washington        4\n",
       "47   West Virginia        1\n",
       "48       Wisconsin        1\n",
       "49         Wyoming        4"
      ]
     },
     "execution_count": 39,
     "metadata": {},
     "output_type": "execute_result"
    }
   ],
   "source": [
    "# df in indexini alip ondan da eyaletleri alip kümelri onlarin yanina koyacagiz\n",
    "\n",
    "pd.DataFrame({\"Eyaletler\": df.index, \"Kumeler\": kumeler})"
   ]
  },
  {
   "cell_type": "code",
   "execution_count": 40,
   "metadata": {},
   "outputs": [],
   "source": [
    "# Cluster numarasina göre yeni bir tablo yapma\n",
    "\n",
    "df[\"cluster_no\"] = kumeler"
   ]
  },
  {
   "cell_type": "code",
   "execution_count": 41,
   "metadata": {},
   "outputs": [
    {
     "data": {
      "text/html": [
       "<div>\n",
       "<style scoped>\n",
       "    .dataframe tbody tr th:only-of-type {\n",
       "        vertical-align: middle;\n",
       "    }\n",
       "\n",
       "    .dataframe tbody tr th {\n",
       "        vertical-align: top;\n",
       "    }\n",
       "\n",
       "    .dataframe thead th {\n",
       "        text-align: right;\n",
       "    }\n",
       "</style>\n",
       "<table border=\"1\" class=\"dataframe\">\n",
       "  <thead>\n",
       "    <tr style=\"text-align: right;\">\n",
       "      <th></th>\n",
       "      <th>Murder</th>\n",
       "      <th>Assault</th>\n",
       "      <th>UrbanPop</th>\n",
       "      <th>Rape</th>\n",
       "      <th>cluster_no</th>\n",
       "    </tr>\n",
       "  </thead>\n",
       "  <tbody>\n",
       "    <tr>\n",
       "      <th>Alabama</th>\n",
       "      <td>13.2</td>\n",
       "      <td>236</td>\n",
       "      <td>58</td>\n",
       "      <td>21.2</td>\n",
       "      <td>2</td>\n",
       "    </tr>\n",
       "    <tr>\n",
       "      <th>Alaska</th>\n",
       "      <td>10.0</td>\n",
       "      <td>263</td>\n",
       "      <td>48</td>\n",
       "      <td>44.5</td>\n",
       "      <td>5</td>\n",
       "    </tr>\n",
       "    <tr>\n",
       "      <th>Arizona</th>\n",
       "      <td>8.1</td>\n",
       "      <td>294</td>\n",
       "      <td>80</td>\n",
       "      <td>31.0</td>\n",
       "      <td>0</td>\n",
       "    </tr>\n",
       "    <tr>\n",
       "      <th>Arkansas</th>\n",
       "      <td>8.8</td>\n",
       "      <td>190</td>\n",
       "      <td>50</td>\n",
       "      <td>19.5</td>\n",
       "      <td>4</td>\n",
       "    </tr>\n",
       "    <tr>\n",
       "      <th>California</th>\n",
       "      <td>9.0</td>\n",
       "      <td>276</td>\n",
       "      <td>91</td>\n",
       "      <td>40.6</td>\n",
       "      <td>5</td>\n",
       "    </tr>\n",
       "  </tbody>\n",
       "</table>\n",
       "</div>"
      ],
      "text/plain": [
       "            Murder  Assault  UrbanPop  Rape  cluster_no\n",
       "Alabama       13.2      236        58  21.2           2\n",
       "Alaska        10.0      263        48  44.5           5\n",
       "Arizona        8.1      294        80  31.0           0\n",
       "Arkansas       8.8      190        50  19.5           4\n",
       "California     9.0      276        91  40.6           5"
      ]
     },
     "execution_count": 41,
     "metadata": {},
     "output_type": "execute_result"
    }
   ],
   "source": [
    "df.head()"
   ]
  },
  {
   "cell_type": "code",
   "execution_count": 42,
   "metadata": {},
   "outputs": [],
   "source": [
    "# ilk cluster a sifir yerine 1 demek icin her cluster a 1 ekleriz\n",
    "\n",
    "df[\"cluster_no\"] = df[\"cluster_no\"] + 1"
   ]
  },
  {
   "cell_type": "code",
   "execution_count": 43,
   "metadata": {},
   "outputs": [
    {
     "data": {
      "text/html": [
       "<div>\n",
       "<style scoped>\n",
       "    .dataframe tbody tr th:only-of-type {\n",
       "        vertical-align: middle;\n",
       "    }\n",
       "\n",
       "    .dataframe tbody tr th {\n",
       "        vertical-align: top;\n",
       "    }\n",
       "\n",
       "    .dataframe thead th {\n",
       "        text-align: right;\n",
       "    }\n",
       "</style>\n",
       "<table border=\"1\" class=\"dataframe\">\n",
       "  <thead>\n",
       "    <tr style=\"text-align: right;\">\n",
       "      <th></th>\n",
       "      <th>Murder</th>\n",
       "      <th>Assault</th>\n",
       "      <th>UrbanPop</th>\n",
       "      <th>Rape</th>\n",
       "      <th>cluster_no</th>\n",
       "    </tr>\n",
       "  </thead>\n",
       "  <tbody>\n",
       "    <tr>\n",
       "      <th>Alabama</th>\n",
       "      <td>13.2</td>\n",
       "      <td>236</td>\n",
       "      <td>58</td>\n",
       "      <td>21.2</td>\n",
       "      <td>3</td>\n",
       "    </tr>\n",
       "    <tr>\n",
       "      <th>Alaska</th>\n",
       "      <td>10.0</td>\n",
       "      <td>263</td>\n",
       "      <td>48</td>\n",
       "      <td>44.5</td>\n",
       "      <td>6</td>\n",
       "    </tr>\n",
       "    <tr>\n",
       "      <th>Arizona</th>\n",
       "      <td>8.1</td>\n",
       "      <td>294</td>\n",
       "      <td>80</td>\n",
       "      <td>31.0</td>\n",
       "      <td>1</td>\n",
       "    </tr>\n",
       "    <tr>\n",
       "      <th>Arkansas</th>\n",
       "      <td>8.8</td>\n",
       "      <td>190</td>\n",
       "      <td>50</td>\n",
       "      <td>19.5</td>\n",
       "      <td>5</td>\n",
       "    </tr>\n",
       "    <tr>\n",
       "      <th>California</th>\n",
       "      <td>9.0</td>\n",
       "      <td>276</td>\n",
       "      <td>91</td>\n",
       "      <td>40.6</td>\n",
       "      <td>6</td>\n",
       "    </tr>\n",
       "  </tbody>\n",
       "</table>\n",
       "</div>"
      ],
      "text/plain": [
       "            Murder  Assault  UrbanPop  Rape  cluster_no\n",
       "Alabama       13.2      236        58  21.2           3\n",
       "Alaska        10.0      263        48  44.5           6\n",
       "Arizona        8.1      294        80  31.0           1\n",
       "Arkansas       8.8      190        50  19.5           5\n",
       "California     9.0      276        91  40.6           6"
      ]
     },
     "execution_count": 43,
     "metadata": {},
     "output_type": "execute_result"
    }
   ],
   "source": [
    "df.head()"
   ]
  },
  {
   "cell_type": "code",
   "execution_count": 44,
   "metadata": {},
   "outputs": [
    {
     "data": {
      "text/html": [
       "<div>\n",
       "<style scoped>\n",
       "    .dataframe tbody tr th:only-of-type {\n",
       "        vertical-align: middle;\n",
       "    }\n",
       "\n",
       "    .dataframe tbody tr th {\n",
       "        vertical-align: top;\n",
       "    }\n",
       "\n",
       "    .dataframe thead th {\n",
       "        text-align: right;\n",
       "    }\n",
       "</style>\n",
       "<table border=\"1\" class=\"dataframe\">\n",
       "  <thead>\n",
       "    <tr style=\"text-align: right;\">\n",
       "      <th></th>\n",
       "      <th>cluster_no</th>\n",
       "    </tr>\n",
       "    <tr>\n",
       "      <th>cluster_no</th>\n",
       "      <th></th>\n",
       "    </tr>\n",
       "  </thead>\n",
       "  <tbody>\n",
       "    <tr>\n",
       "      <th>1</th>\n",
       "      <td>8</td>\n",
       "    </tr>\n",
       "    <tr>\n",
       "      <th>2</th>\n",
       "      <td>12</td>\n",
       "    </tr>\n",
       "    <tr>\n",
       "      <th>3</th>\n",
       "      <td>7</td>\n",
       "    </tr>\n",
       "    <tr>\n",
       "      <th>4</th>\n",
       "      <td>8</td>\n",
       "    </tr>\n",
       "    <tr>\n",
       "      <th>5</th>\n",
       "      <td>11</td>\n",
       "    </tr>\n",
       "    <tr>\n",
       "      <th>6</th>\n",
       "      <td>4</td>\n",
       "    </tr>\n",
       "  </tbody>\n",
       "</table>\n",
       "</div>"
      ],
      "text/plain": [
       "            cluster_no\n",
       "cluster_no            \n",
       "1                    8\n",
       "2                   12\n",
       "3                    7\n",
       "4                    8\n",
       "5                   11\n",
       "6                    4"
      ]
     },
     "execution_count": 44,
     "metadata": {},
     "output_type": "execute_result"
    }
   ],
   "source": [
    "# Hangi clusterda kac gözlem birimi var\n",
    "\n",
    "df.groupby(\"cluster_no\").agg({\"cluster_no\":\"count\"})"
   ]
  },
  {
   "cell_type": "code",
   "execution_count": 45,
   "metadata": {},
   "outputs": [
    {
     "data": {
      "text/html": [
       "<div>\n",
       "<style scoped>\n",
       "    .dataframe tbody tr th:only-of-type {\n",
       "        vertical-align: middle;\n",
       "    }\n",
       "\n",
       "    .dataframe tbody tr th {\n",
       "        vertical-align: top;\n",
       "    }\n",
       "\n",
       "    .dataframe thead th {\n",
       "        text-align: right;\n",
       "    }\n",
       "</style>\n",
       "<table border=\"1\" class=\"dataframe\">\n",
       "  <thead>\n",
       "    <tr style=\"text-align: right;\">\n",
       "      <th></th>\n",
       "      <th>Murder</th>\n",
       "      <th>Assault</th>\n",
       "      <th>UrbanPop</th>\n",
       "      <th>Rape</th>\n",
       "      <th>cluster_no</th>\n",
       "    </tr>\n",
       "  </thead>\n",
       "  <tbody>\n",
       "    <tr>\n",
       "      <th>Alaska</th>\n",
       "      <td>10.0</td>\n",
       "      <td>263</td>\n",
       "      <td>48</td>\n",
       "      <td>44.5</td>\n",
       "      <td>6</td>\n",
       "    </tr>\n",
       "    <tr>\n",
       "      <th>California</th>\n",
       "      <td>9.0</td>\n",
       "      <td>276</td>\n",
       "      <td>91</td>\n",
       "      <td>40.6</td>\n",
       "      <td>6</td>\n",
       "    </tr>\n",
       "    <tr>\n",
       "      <th>Colorado</th>\n",
       "      <td>7.9</td>\n",
       "      <td>204</td>\n",
       "      <td>78</td>\n",
       "      <td>38.7</td>\n",
       "      <td>6</td>\n",
       "    </tr>\n",
       "    <tr>\n",
       "      <th>Nevada</th>\n",
       "      <td>12.2</td>\n",
       "      <td>252</td>\n",
       "      <td>81</td>\n",
       "      <td>46.0</td>\n",
       "      <td>6</td>\n",
       "    </tr>\n",
       "  </tbody>\n",
       "</table>\n",
       "</div>"
      ],
      "text/plain": [
       "            Murder  Assault  UrbanPop  Rape  cluster_no\n",
       "Alaska        10.0      263        48  44.5           6\n",
       "California     9.0      276        91  40.6           6\n",
       "Colorado       7.9      204        78  38.7           6\n",
       "Nevada        12.2      252        81  46.0           6"
      ]
     },
     "execution_count": 45,
     "metadata": {},
     "output_type": "execute_result"
    }
   ],
   "source": [
    "# Örnegin 6. clusterdaki eyaletleri görmek istersek\n",
    "\n",
    "df[df[\"cluster_no\"] == 6]"
   ]
  },
  {
   "cell_type": "code",
   "execution_count": 46,
   "metadata": {},
   "outputs": [
    {
     "data": {
      "text/html": [
       "<div>\n",
       "<style scoped>\n",
       "    .dataframe tbody tr th:only-of-type {\n",
       "        vertical-align: middle;\n",
       "    }\n",
       "\n",
       "    .dataframe tbody tr th {\n",
       "        vertical-align: top;\n",
       "    }\n",
       "\n",
       "    .dataframe thead th {\n",
       "        text-align: right;\n",
       "    }\n",
       "</style>\n",
       "<table border=\"1\" class=\"dataframe\">\n",
       "  <thead>\n",
       "    <tr style=\"text-align: right;\">\n",
       "      <th></th>\n",
       "      <th>count</th>\n",
       "      <th>mean</th>\n",
       "      <th>std</th>\n",
       "      <th>min</th>\n",
       "      <th>25%</th>\n",
       "      <th>50%</th>\n",
       "      <th>75%</th>\n",
       "      <th>max</th>\n",
       "    </tr>\n",
       "  </thead>\n",
       "  <tbody>\n",
       "    <tr>\n",
       "      <th>Murder</th>\n",
       "      <td>50.0</td>\n",
       "      <td>7.788</td>\n",
       "      <td>4.355510</td>\n",
       "      <td>0.8</td>\n",
       "      <td>4.075</td>\n",
       "      <td>7.25</td>\n",
       "      <td>11.250</td>\n",
       "      <td>17.4</td>\n",
       "    </tr>\n",
       "    <tr>\n",
       "      <th>Assault</th>\n",
       "      <td>50.0</td>\n",
       "      <td>170.760</td>\n",
       "      <td>83.337661</td>\n",
       "      <td>45.0</td>\n",
       "      <td>109.000</td>\n",
       "      <td>159.00</td>\n",
       "      <td>249.000</td>\n",
       "      <td>337.0</td>\n",
       "    </tr>\n",
       "    <tr>\n",
       "      <th>UrbanPop</th>\n",
       "      <td>50.0</td>\n",
       "      <td>65.540</td>\n",
       "      <td>14.474763</td>\n",
       "      <td>32.0</td>\n",
       "      <td>54.500</td>\n",
       "      <td>66.00</td>\n",
       "      <td>77.750</td>\n",
       "      <td>91.0</td>\n",
       "    </tr>\n",
       "    <tr>\n",
       "      <th>Rape</th>\n",
       "      <td>50.0</td>\n",
       "      <td>21.232</td>\n",
       "      <td>9.366385</td>\n",
       "      <td>7.3</td>\n",
       "      <td>15.075</td>\n",
       "      <td>20.10</td>\n",
       "      <td>26.175</td>\n",
       "      <td>46.0</td>\n",
       "    </tr>\n",
       "    <tr>\n",
       "      <th>cluster_no</th>\n",
       "      <td>50.0</td>\n",
       "      <td>3.280</td>\n",
       "      <td>1.616749</td>\n",
       "      <td>1.0</td>\n",
       "      <td>2.000</td>\n",
       "      <td>3.00</td>\n",
       "      <td>5.000</td>\n",
       "      <td>6.0</td>\n",
       "    </tr>\n",
       "  </tbody>\n",
       "</table>\n",
       "</div>"
      ],
      "text/plain": [
       "            count     mean        std   min      25%     50%      75%    max\n",
       "Murder       50.0    7.788   4.355510   0.8    4.075    7.25   11.250   17.4\n",
       "Assault      50.0  170.760  83.337661  45.0  109.000  159.00  249.000  337.0\n",
       "UrbanPop     50.0   65.540  14.474763  32.0   54.500   66.00   77.750   91.0\n",
       "Rape         50.0   21.232   9.366385   7.3   15.075   20.10   26.175   46.0\n",
       "cluster_no   50.0    3.280   1.616749   1.0    2.000    3.00    5.000    6.0"
      ]
     },
     "execution_count": 46,
     "metadata": {},
     "output_type": "execute_result"
    }
   ],
   "source": [
    "df.describe().T"
   ]
  },
  {
   "cell_type": "code",
   "execution_count": 47,
   "metadata": {},
   "outputs": [
    {
     "data": {
      "text/html": [
       "<div>\n",
       "<style scoped>\n",
       "    .dataframe tbody tr th:only-of-type {\n",
       "        vertical-align: middle;\n",
       "    }\n",
       "\n",
       "    .dataframe tbody tr th {\n",
       "        vertical-align: top;\n",
       "    }\n",
       "\n",
       "    .dataframe thead th {\n",
       "        text-align: right;\n",
       "    }\n",
       "</style>\n",
       "<table border=\"1\" class=\"dataframe\">\n",
       "  <thead>\n",
       "    <tr style=\"text-align: right;\">\n",
       "      <th></th>\n",
       "      <th>Murder</th>\n",
       "      <th>Assault</th>\n",
       "      <th>UrbanPop</th>\n",
       "      <th>Rape</th>\n",
       "    </tr>\n",
       "    <tr>\n",
       "      <th>cluster_no</th>\n",
       "      <th></th>\n",
       "      <th></th>\n",
       "      <th></th>\n",
       "      <th></th>\n",
       "    </tr>\n",
       "  </thead>\n",
       "  <tbody>\n",
       "    <tr>\n",
       "      <th>1</th>\n",
       "      <td>11.562500</td>\n",
       "      <td>271.625000</td>\n",
       "      <td>77.500000</td>\n",
       "      <td>29.187500</td>\n",
       "    </tr>\n",
       "    <tr>\n",
       "      <th>2</th>\n",
       "      <td>3.091667</td>\n",
       "      <td>76.000000</td>\n",
       "      <td>52.083333</td>\n",
       "      <td>11.833333</td>\n",
       "    </tr>\n",
       "    <tr>\n",
       "      <th>3</th>\n",
       "      <td>14.671429</td>\n",
       "      <td>251.285714</td>\n",
       "      <td>54.285714</td>\n",
       "      <td>21.685714</td>\n",
       "    </tr>\n",
       "    <tr>\n",
       "      <th>4</th>\n",
       "      <td>5.075000</td>\n",
       "      <td>123.000000</td>\n",
       "      <td>81.000000</td>\n",
       "      <td>16.737500</td>\n",
       "    </tr>\n",
       "    <tr>\n",
       "      <th>5</th>\n",
       "      <td>7.036364</td>\n",
       "      <td>155.909091</td>\n",
       "      <td>64.181818</td>\n",
       "      <td>20.963636</td>\n",
       "    </tr>\n",
       "    <tr>\n",
       "      <th>6</th>\n",
       "      <td>9.775000</td>\n",
       "      <td>248.750000</td>\n",
       "      <td>74.500000</td>\n",
       "      <td>42.450000</td>\n",
       "    </tr>\n",
       "  </tbody>\n",
       "</table>\n",
       "</div>"
      ],
      "text/plain": [
       "               Murder     Assault   UrbanPop       Rape\n",
       "cluster_no                                             \n",
       "1           11.562500  271.625000  77.500000  29.187500\n",
       "2            3.091667   76.000000  52.083333  11.833333\n",
       "3           14.671429  251.285714  54.285714  21.685714\n",
       "4            5.075000  123.000000  81.000000  16.737500\n",
       "5            7.036364  155.909091  64.181818  20.963636\n",
       "6            9.775000  248.750000  74.500000  42.450000"
      ]
     },
     "execution_count": 47,
     "metadata": {},
     "output_type": "execute_result"
    }
   ],
   "source": [
    "# Her grubun suclara göre ortalama degerleri\n",
    "\n",
    "df.groupby(\"cluster_no\").agg(np.mean)"
   ]
  },
  {
   "cell_type": "markdown",
   "metadata": {},
   "source": [
    "# Hiyerarşik Kümeleme Analizi\n",
    "# Hierarchical Cluster Analysis\n",
    "\n",
    "   \n",
    "\n"
   ]
  },
  {
   "cell_type": "code",
   "execution_count": 48,
   "metadata": {},
   "outputs": [],
   "source": [
    "# Hierarchical Cluster Analysis\n",
    "# Agglomerative (Birlestirici) Clustering Method\n",
    "\n",
    "from scipy.cluster.hierarchy import linkage"
   ]
  },
  {
   "cell_type": "code",
   "execution_count": 49,
   "metadata": {
    "collapsed": true,
    "jupyter": {
     "outputs_hidden": true
    }
   },
   "outputs": [
    {
     "data": {
      "text/plain": [
       "\u001b[1;31mSignature:\u001b[0m \u001b[0mlinkage\u001b[0m\u001b[1;33m(\u001b[0m\u001b[0my\u001b[0m\u001b[1;33m,\u001b[0m \u001b[0mmethod\u001b[0m\u001b[1;33m=\u001b[0m\u001b[1;34m'single'\u001b[0m\u001b[1;33m,\u001b[0m \u001b[0mmetric\u001b[0m\u001b[1;33m=\u001b[0m\u001b[1;34m'euclidean'\u001b[0m\u001b[1;33m,\u001b[0m \u001b[0moptimal_ordering\u001b[0m\u001b[1;33m=\u001b[0m\u001b[1;32mFalse\u001b[0m\u001b[1;33m)\u001b[0m\u001b[1;33m\u001b[0m\u001b[1;33m\u001b[0m\u001b[0m\n",
       "\u001b[1;31mDocstring:\u001b[0m\n",
       "Perform hierarchical/agglomerative clustering.\n",
       "\n",
       "The input y may be either a 1-D condensed distance matrix\n",
       "or a 2-D array of observation vectors.\n",
       "\n",
       "If y is a 1-D condensed distance matrix,\n",
       "then y must be a :math:`\\binom{n}{2}` sized\n",
       "vector, where n is the number of original observations paired\n",
       "in the distance matrix. The behavior of this function is very\n",
       "similar to the MATLAB linkage function.\n",
       "\n",
       "A :math:`(n-1)` by 4 matrix ``Z`` is returned. At the\n",
       ":math:`i`-th iteration, clusters with indices ``Z[i, 0]`` and\n",
       "``Z[i, 1]`` are combined to form cluster :math:`n + i`. A\n",
       "cluster with an index less than :math:`n` corresponds to one of\n",
       "the :math:`n` original observations. The distance between\n",
       "clusters ``Z[i, 0]`` and ``Z[i, 1]`` is given by ``Z[i, 2]``. The\n",
       "fourth value ``Z[i, 3]`` represents the number of original\n",
       "observations in the newly formed cluster.\n",
       "\n",
       "The following linkage methods are used to compute the distance\n",
       ":math:`d(s, t)` between two clusters :math:`s` and\n",
       ":math:`t`. The algorithm begins with a forest of clusters that\n",
       "have yet to be used in the hierarchy being formed. When two\n",
       "clusters :math:`s` and :math:`t` from this forest are combined\n",
       "into a single cluster :math:`u`, :math:`s` and :math:`t` are\n",
       "removed from the forest, and :math:`u` is added to the\n",
       "forest. When only one cluster remains in the forest, the algorithm\n",
       "stops, and this cluster becomes the root.\n",
       "\n",
       "A distance matrix is maintained at each iteration. The ``d[i,j]``\n",
       "entry corresponds to the distance between cluster :math:`i` and\n",
       ":math:`j` in the original forest.\n",
       "\n",
       "At each iteration, the algorithm must update the distance matrix\n",
       "to reflect the distance of the newly formed cluster u with the\n",
       "remaining clusters in the forest.\n",
       "\n",
       "Suppose there are :math:`|u|` original observations\n",
       ":math:`u[0], \\ldots, u[|u|-1]` in cluster :math:`u` and\n",
       ":math:`|v|` original objects :math:`v[0], \\ldots, v[|v|-1]` in\n",
       "cluster :math:`v`. Recall, :math:`s` and :math:`t` are\n",
       "combined to form cluster :math:`u`. Let :math:`v` be any\n",
       "remaining cluster in the forest that is not :math:`u`.\n",
       "\n",
       "The following are methods for calculating the distance between the\n",
       "newly formed cluster :math:`u` and each :math:`v`.\n",
       "\n",
       "  * method='single' assigns\n",
       "\n",
       "    .. math::\n",
       "       d(u,v) = \\min(dist(u[i],v[j]))\n",
       "\n",
       "    for all points :math:`i` in cluster :math:`u` and\n",
       "    :math:`j` in cluster :math:`v`. This is also known as the\n",
       "    Nearest Point Algorithm.\n",
       "\n",
       "  * method='complete' assigns\n",
       "\n",
       "    .. math::\n",
       "       d(u, v) = \\max(dist(u[i],v[j]))\n",
       "\n",
       "    for all points :math:`i` in cluster u and :math:`j` in\n",
       "    cluster :math:`v`. This is also known by the Farthest Point\n",
       "    Algorithm or Voor Hees Algorithm.\n",
       "\n",
       "  * method='average' assigns\n",
       "\n",
       "    .. math::\n",
       "       d(u,v) = \\sum_{ij} \\frac{d(u[i], v[j])}\n",
       "                               {(|u|*|v|)}\n",
       "\n",
       "    for all points :math:`i` and :math:`j` where :math:`|u|`\n",
       "    and :math:`|v|` are the cardinalities of clusters :math:`u`\n",
       "    and :math:`v`, respectively. This is also called the UPGMA\n",
       "    algorithm.\n",
       "\n",
       "  * method='weighted' assigns\n",
       "\n",
       "    .. math::\n",
       "       d(u,v) = (dist(s,v) + dist(t,v))/2\n",
       "\n",
       "    where cluster u was formed with cluster s and t and v\n",
       "    is a remaining cluster in the forest (also called WPGMA).\n",
       "\n",
       "  * method='centroid' assigns\n",
       "\n",
       "    .. math::\n",
       "       dist(s,t) = ||c_s-c_t||_2\n",
       "\n",
       "    where :math:`c_s` and :math:`c_t` are the centroids of\n",
       "    clusters :math:`s` and :math:`t`, respectively. When two\n",
       "    clusters :math:`s` and :math:`t` are combined into a new\n",
       "    cluster :math:`u`, the new centroid is computed over all the\n",
       "    original objects in clusters :math:`s` and :math:`t`. The\n",
       "    distance then becomes the Euclidean distance between the\n",
       "    centroid of :math:`u` and the centroid of a remaining cluster\n",
       "    :math:`v` in the forest. This is also known as the UPGMC\n",
       "    algorithm.\n",
       "\n",
       "  * method='median' assigns :math:`d(s,t)` like the ``centroid``\n",
       "    method. When two clusters :math:`s` and :math:`t` are combined\n",
       "    into a new cluster :math:`u`, the average of centroids s and t\n",
       "    give the new centroid :math:`u`. This is also known as the\n",
       "    WPGMC algorithm.\n",
       "\n",
       "  * method='ward' uses the Ward variance minimization algorithm.\n",
       "    The new entry :math:`d(u,v)` is computed as follows,\n",
       "\n",
       "    .. math::\n",
       "\n",
       "       d(u,v) = \\sqrt{\\frac{|v|+|s|}\n",
       "                           {T}d(v,s)^2\n",
       "                    + \\frac{|v|+|t|}\n",
       "                           {T}d(v,t)^2\n",
       "                    - \\frac{|v|}\n",
       "                           {T}d(s,t)^2}\n",
       "\n",
       "    where :math:`u` is the newly joined cluster consisting of\n",
       "    clusters :math:`s` and :math:`t`, :math:`v` is an unused\n",
       "    cluster in the forest, :math:`T=|v|+|s|+|t|`, and\n",
       "    :math:`|*|` is the cardinality of its argument. This is also\n",
       "    known as the incremental algorithm.\n",
       "\n",
       "Warning: When the minimum distance pair in the forest is chosen, there\n",
       "may be two or more pairs with the same minimum distance. This\n",
       "implementation may choose a different minimum than the MATLAB\n",
       "version.\n",
       "\n",
       "Parameters\n",
       "----------\n",
       "y : ndarray\n",
       "    A condensed distance matrix. A condensed distance matrix\n",
       "    is a flat array containing the upper triangular of the distance matrix.\n",
       "    This is the form that ``pdist`` returns. Alternatively, a collection of\n",
       "    :math:`m` observation vectors in :math:`n` dimensions may be passed as\n",
       "    an :math:`m` by :math:`n` array. All elements of the condensed distance\n",
       "    matrix must be finite, i.e., no NaNs or infs.\n",
       "method : str, optional\n",
       "    The linkage algorithm to use. See the ``Linkage Methods`` section below\n",
       "    for full descriptions.\n",
       "metric : str or function, optional\n",
       "    The distance metric to use in the case that y is a collection of\n",
       "    observation vectors; ignored otherwise. See the ``pdist``\n",
       "    function for a list of valid distance metrics. A custom distance\n",
       "    function can also be used.\n",
       "optimal_ordering : bool, optional\n",
       "    If True, the linkage matrix will be reordered so that the distance\n",
       "    between successive leaves is minimal. This results in a more intuitive\n",
       "    tree structure when the data are visualized. defaults to False, because\n",
       "    this algorithm can be slow, particularly on large datasets [2]_. See\n",
       "    also the `optimal_leaf_ordering` function.\n",
       "\n",
       "    .. versionadded:: 1.0.0\n",
       "\n",
       "Returns\n",
       "-------\n",
       "Z : ndarray\n",
       "    The hierarchical clustering encoded as a linkage matrix.\n",
       "\n",
       "Notes\n",
       "-----\n",
       "1. For method 'single', an optimized algorithm based on minimum spanning\n",
       "   tree is implemented. It has time complexity :math:`O(n^2)`.\n",
       "   For methods 'complete', 'average', 'weighted' and 'ward', an algorithm\n",
       "   called nearest-neighbors chain is implemented. It also has time\n",
       "   complexity :math:`O(n^2)`.\n",
       "   For other methods, a naive algorithm is implemented with :math:`O(n^3)`\n",
       "   time complexity.\n",
       "   All algorithms use :math:`O(n^2)` memory.\n",
       "   Refer to [1]_ for details about the algorithms.\n",
       "2. Methods 'centroid', 'median', and 'ward' are correctly defined only if\n",
       "   Euclidean pairwise metric is used. If `y` is passed as precomputed\n",
       "   pairwise distances, then it is the user's responsibility to assure that\n",
       "   these distances are in fact Euclidean, otherwise the produced result\n",
       "   will be incorrect.\n",
       "\n",
       "See Also\n",
       "--------\n",
       "scipy.spatial.distance.pdist : pairwise distance metrics\n",
       "\n",
       "References\n",
       "----------\n",
       ".. [1] Daniel Mullner, \"Modern hierarchical, agglomerative clustering\n",
       "       algorithms\", :arXiv:`1109.2378v1`.\n",
       ".. [2] Ziv Bar-Joseph, David K. Gifford, Tommi S. Jaakkola, \"Fast optimal\n",
       "       leaf ordering for hierarchical clustering\", 2001. Bioinformatics\n",
       "       :doi:`10.1093/bioinformatics/17.suppl_1.S22`\n",
       "\n",
       "Examples\n",
       "--------\n",
       ">>> from scipy.cluster.hierarchy import dendrogram, linkage\n",
       ">>> from matplotlib import pyplot as plt\n",
       ">>> X = [[i] for i in [2, 8, 0, 4, 1, 9, 9, 0]]\n",
       "\n",
       ">>> Z = linkage(X, 'ward')\n",
       ">>> fig = plt.figure(figsize=(25, 10))\n",
       ">>> dn = dendrogram(Z)\n",
       "\n",
       ">>> Z = linkage(X, 'single')\n",
       ">>> fig = plt.figure(figsize=(25, 10))\n",
       ">>> dn = dendrogram(Z)\n",
       ">>> plt.show()\n",
       "\u001b[1;31mFile:\u001b[0m      c:\\users\\toshiba\\anaconda3\\lib\\site-packages\\scipy\\cluster\\hierarchy.py\n",
       "\u001b[1;31mType:\u001b[0m      function\n"
      ]
     },
     "metadata": {},
     "output_type": "display_data"
    }
   ],
   "source": [
    "?linkage"
   ]
  },
  {
   "cell_type": "code",
   "execution_count": 50,
   "metadata": {},
   "outputs": [],
   "source": [
    "# linkage yöntemi icerisinde complete ve average yöntemleri var\n",
    "# Birlestirici dendogram olustiurma islemi yapacagiz\n",
    "\n",
    "hc_complete = linkage(df, \"complete\")\n",
    "hc_average = linkage(df, \"average\")"
   ]
  },
  {
   "cell_type": "code",
   "execution_count": 51,
   "metadata": {},
   "outputs": [],
   "source": [
    "# Dendogram fonksiyonu getirecegiz\n",
    "\n",
    "from scipy.cluster.hierarchy import dendrogram"
   ]
  },
  {
   "cell_type": "code",
   "execution_count": 52,
   "metadata": {},
   "outputs": [
    {
     "data": {
      "image/png": "[encoded data removed]",
      "text/plain": [
       "<Figure size 720x360 with 1 Axes>"
      ]
     },
     "metadata": {},
     "output_type": "display_data"
    }
   ],
   "source": [
    "# leaf_font_size en altaki rakamlarin buyuklugunu gösteriyor. \n",
    "# figsize da seklin ölcülerini gösteriyor\n",
    "# Burada average yöntemi kullandik\n",
    "\n",
    "plt.figure(figsize = (10,5))\n",
    "plt.title(\"Hiyerarşik Kümeleme Dendogramı\")\n",
    "plt.xlabel(\"Gözlem Birimleri\")\n",
    "plt.ylabel(\"Uzaklıklar\")\n",
    "dendrogram(hc_average,\n",
    "          leaf_font_size = 10);"
   ]
  },
  {
   "cell_type": "code",
   "execution_count": 53,
   "metadata": {},
   "outputs": [
    {
     "data": {
      "image/png": "[encoded data removed]",
      "text/plain": [
       "<Figure size 1080x720 with 1 Axes>"
      ]
     },
     "metadata": {},
     "output_type": "display_data"
    }
   ],
   "source": [
    "# burada complete yöntemi kullandik\n",
    "# Yukarida gözlem birimi sayisi kadar küme var\n",
    "# Örnegin sadece 10 tane cluster kalmasini istiyorsak \n",
    "# Dendogram kfonksiyonuna asagidaki sekilde özellik ekleriz. p= cluster sayisi\n",
    "\n",
    "plt.figure(figsize = (15,10))\n",
    "plt.title(\"Hiyerarşik Kümeleme Dendogramı\")\n",
    "plt.xlabel(\"Gözlem Birimleri\")\n",
    "plt.ylabel(\"Uzaklıklar\")\n",
    "dendrogram(hc_complete,\n",
    "           truncate_mode = \"lastp\",\n",
    "           p = 10,\n",
    "           show_contracted = True,\n",
    "          leaf_font_size = 10);"
   ]
  },
  {
   "cell_type": "code",
   "execution_count": 54,
   "metadata": {},
   "outputs": [
    {
     "data": {
      "image/png": "[encoded data removed]",
      "text/plain": [
       "<Figure size 1080x720 with 1 Axes>"
      ]
     },
     "metadata": {},
     "output_type": "display_data"
    }
   ],
   "source": [
    "# yukaridaki islemi 6 cluster ile deneme\n",
    "# burada complete yöntemi kullandik\n",
    "# Yukarida gözlem birimi sayisi kadar küme var\n",
    "# Örnegin sadece 6 tane cluster kalmasini istiyorsak \n",
    "# Dendogram kfonksiyonuna asagidaki sekilde özellik ekleriz. p= cluster sayisi\n",
    "\n",
    "plt.figure(figsize = (15,10))\n",
    "plt.title(\"Hiyerarşik Kümeleme Dendogramı\")\n",
    "plt.xlabel(\"Gözlem Birimleri\")\n",
    "plt.ylabel(\"Uzaklıklar\")\n",
    "dendrogram(hc_complete,\n",
    "           truncate_mode = \"lastp\",\n",
    "           p = 6,\n",
    "           show_contracted = True,\n",
    "          leaf_font_size = 10);"
   ]
  },
  {
   "cell_type": "markdown",
   "metadata": {},
   "source": [
    "# Temel Bileşen Analizi\n",
    "# (Principal Component Analysis)\n",
    "\n"
   ]
  },
  {
   "cell_type": "code",
   "execution_count": 59,
   "metadata": {},
   "outputs": [
    {
     "data": {
      "text/html": [
       "<div>\n",
       "<style scoped>\n",
       "    .dataframe tbody tr th:only-of-type {\n",
       "        vertical-align: middle;\n",
       "    }\n",
       "\n",
       "    .dataframe tbody tr th {\n",
       "        vertical-align: top;\n",
       "    }\n",
       "\n",
       "    .dataframe thead th {\n",
       "        text-align: right;\n",
       "    }\n",
       "</style>\n",
       "<table border=\"1\" class=\"dataframe\">\n",
       "  <thead>\n",
       "    <tr style=\"text-align: right;\">\n",
       "      <th></th>\n",
       "      <th>AtBat</th>\n",
       "      <th>Hits</th>\n",
       "      <th>HmRun</th>\n",
       "      <th>Runs</th>\n",
       "      <th>RBI</th>\n",
       "      <th>Walks</th>\n",
       "      <th>Years</th>\n",
       "      <th>CAtBat</th>\n",
       "      <th>CHits</th>\n",
       "      <th>CHmRun</th>\n",
       "      <th>CRuns</th>\n",
       "      <th>CRBI</th>\n",
       "      <th>CWalks</th>\n",
       "      <th>PutOuts</th>\n",
       "      <th>Assists</th>\n",
       "      <th>Errors</th>\n",
       "      <th>Salary</th>\n",
       "    </tr>\n",
       "  </thead>\n",
       "  <tbody>\n",
       "    <tr>\n",
       "      <th>1</th>\n",
       "      <td>315</td>\n",
       "      <td>81</td>\n",
       "      <td>7</td>\n",
       "      <td>24</td>\n",
       "      <td>38</td>\n",
       "      <td>39</td>\n",
       "      <td>14</td>\n",
       "      <td>3449</td>\n",
       "      <td>835</td>\n",
       "      <td>69</td>\n",
       "      <td>321</td>\n",
       "      <td>414</td>\n",
       "      <td>375</td>\n",
       "      <td>632</td>\n",
       "      <td>43</td>\n",
       "      <td>10</td>\n",
       "      <td>475.0</td>\n",
       "    </tr>\n",
       "    <tr>\n",
       "      <th>2</th>\n",
       "      <td>479</td>\n",
       "      <td>130</td>\n",
       "      <td>18</td>\n",
       "      <td>66</td>\n",
       "      <td>72</td>\n",
       "      <td>76</td>\n",
       "      <td>3</td>\n",
       "      <td>1624</td>\n",
       "      <td>457</td>\n",
       "      <td>63</td>\n",
       "      <td>224</td>\n",
       "      <td>266</td>\n",
       "      <td>263</td>\n",
       "      <td>880</td>\n",
       "      <td>82</td>\n",
       "      <td>14</td>\n",
       "      <td>480.0</td>\n",
       "    </tr>\n",
       "    <tr>\n",
       "      <th>3</th>\n",
       "      <td>496</td>\n",
       "      <td>141</td>\n",
       "      <td>20</td>\n",
       "      <td>65</td>\n",
       "      <td>78</td>\n",
       "      <td>37</td>\n",
       "      <td>11</td>\n",
       "      <td>5628</td>\n",
       "      <td>1575</td>\n",
       "      <td>225</td>\n",
       "      <td>828</td>\n",
       "      <td>838</td>\n",
       "      <td>354</td>\n",
       "      <td>200</td>\n",
       "      <td>11</td>\n",
       "      <td>3</td>\n",
       "      <td>500.0</td>\n",
       "    </tr>\n",
       "    <tr>\n",
       "      <th>4</th>\n",
       "      <td>321</td>\n",
       "      <td>87</td>\n",
       "      <td>10</td>\n",
       "      <td>39</td>\n",
       "      <td>42</td>\n",
       "      <td>30</td>\n",
       "      <td>2</td>\n",
       "      <td>396</td>\n",
       "      <td>101</td>\n",
       "      <td>12</td>\n",
       "      <td>48</td>\n",
       "      <td>46</td>\n",
       "      <td>33</td>\n",
       "      <td>805</td>\n",
       "      <td>40</td>\n",
       "      <td>4</td>\n",
       "      <td>91.5</td>\n",
       "    </tr>\n",
       "    <tr>\n",
       "      <th>5</th>\n",
       "      <td>594</td>\n",
       "      <td>169</td>\n",
       "      <td>4</td>\n",
       "      <td>74</td>\n",
       "      <td>51</td>\n",
       "      <td>35</td>\n",
       "      <td>11</td>\n",
       "      <td>4408</td>\n",
       "      <td>1133</td>\n",
       "      <td>19</td>\n",
       "      <td>501</td>\n",
       "      <td>336</td>\n",
       "      <td>194</td>\n",
       "      <td>282</td>\n",
       "      <td>421</td>\n",
       "      <td>25</td>\n",
       "      <td>750.0</td>\n",
       "    </tr>\n",
       "  </tbody>\n",
       "</table>\n",
       "</div>"
      ],
      "text/plain": [
       "   AtBat  Hits  HmRun  Runs  RBI  Walks  Years  CAtBat  CHits  CHmRun  CRuns  \\\n",
       "1    315    81      7    24   38     39     14    3449    835      69    321   \n",
       "2    479   130     18    66   72     76      3    1624    457      63    224   \n",
       "3    496   141     20    65   78     37     11    5628   1575     225    828   \n",
       "4    321    87     10    39   42     30      2     396    101      12     48   \n",
       "5    594   169      4    74   51     35     11    4408   1133      19    501   \n",
       "\n",
       "   CRBI  CWalks  PutOuts  Assists  Errors  Salary  \n",
       "1   414     375      632       43      10   475.0  \n",
       "2   266     263      880       82      14   480.0  \n",
       "3   838     354      200       11       3   500.0  \n",
       "4    46      33      805       40       4    91.5  \n",
       "5   336     194      282      421      25   750.0  "
      ]
     },
     "execution_count": 59,
     "metadata": {},
     "output_type": "execute_result"
    }
   ],
   "source": [
    "# pca categorik degiskenleri sevmez bu yuzden hitters veri setinden sadece numeric data lari alacigiz\n",
    "# get_numeric_data ile sadce numeric datalari allacagiz.\n",
    "\n",
    "df = pd.read_csv(\"./Hitters.csv\")\n",
    "df.dropna(inplace = True)\n",
    "df = df._get_numeric_data()\n",
    "df.head()"
   ]
  },
  {
   "cell_type": "code",
   "execution_count": 60,
   "metadata": {},
   "outputs": [],
   "source": [
    "# pca icin robust yada normalized olmalisinin cok bir anlami yok.\n",
    "# bu yüzden standart scaler ile standartlastirma yapacagiz\n",
    "\n",
    "from sklearn.preprocessing import StandardScaler"
   ]
  },
  {
   "cell_type": "code",
   "execution_count": 61,
   "metadata": {},
   "outputs": [],
   "source": [
    "# fit ile standartlastirma kaydedilecek\n",
    "\n",
    "df = StandardScaler().fit_transform(df)"
   ]
  },
  {
   "cell_type": "code",
   "execution_count": 62,
   "metadata": {},
   "outputs": [
    {
     "data": {
      "text/plain": [
       "array([[-0.6029005 , -0.59567545, -0.5285512 , -1.2061115 , -0.52206292,\n",
       "        -0.0975271 ,  1.3978935 ,  0.3467905 ,  0.1743734 , -0.0029198 ,\n",
       "        -0.12167086,  0.25896561,  0.43533435,  1.22149851, -0.52319133,\n",
       "         0.21335208, -0.1353126 ],\n",
       "       [ 0.51254171,  0.49225957,  0.72996619,  0.44151497,  0.79405962,\n",
       "         1.6093726 , -0.90120024, -0.45286539, -0.4098921 , -0.07605382,\n",
       "        -0.41510491, -0.19959036,  0.010373  ,  2.10910888, -0.25386267,\n",
       "         0.81996395, -0.12420791],\n",
       "       [ 0.62816682,  0.73648988,  0.95878753,  0.40228577,  1.02631654,\n",
       "        -0.18979195,  0.77086793,  1.30155773,  1.31817358,  1.89856469,\n",
       "         1.41205144,  1.57266648,  0.3556541 , -0.32466148, -0.74417894,\n",
       "        -0.84821868, -0.07978915],\n",
       "       [-0.56209164, -0.46245892, -0.18531919, -0.61767348, -0.36722498,\n",
       "        -0.51271892, -1.11020876, -0.99093521, -0.96015272, -0.69769298,\n",
       "        -0.94752134, -0.88122761, -0.86231547,  1.84067833, -0.54390892,\n",
       "        -0.69656571, -0.98704229],\n",
       "       [ 1.29471156,  1.35816704, -0.87178322,  0.75534858, -0.0188396 ,\n",
       "        -0.2820568 ,  0.77086793,  0.76699324,  0.63498482, -0.61236996,\n",
       "         0.42284593,  0.01729422, -0.25143354, -0.03117741,  2.08722487,\n",
       "         2.48814657,  0.47544532]])"
      ]
     },
     "execution_count": 62,
     "metadata": {},
     "output_type": "execute_result"
    }
   ],
   "source": [
    "# dönüstürme islemi sonucunda data frame numpy array e döndü\n",
    "\n",
    "df[0:5]"
   ]
  },
  {
   "cell_type": "code",
   "execution_count": 63,
   "metadata": {},
   "outputs": [
    {
     "data": {
      "text/plain": [
       "(263, 17)"
      ]
     },
     "execution_count": 63,
     "metadata": {},
     "output_type": "execute_result"
    }
   ],
   "source": [
    "# Veri setimizde 17 degisken 263 case var\n",
    "df.shape"
   ]
  },
  {
   "cell_type": "code",
   "execution_count": 64,
   "metadata": {},
   "outputs": [],
   "source": [
    "# sklearn icerisinden PCA fonksiyonunu import ediyoruz\n",
    "\n",
    "from sklearn.decomposition import PCA"
   ]
  },
  {
   "cell_type": "code",
   "execution_count": 65,
   "metadata": {},
   "outputs": [],
   "source": [
    "# n_component boyut sayisini ifade ediyor\n",
    "# 5 yazinca veri setimizdeki 17 degiskeni 2 degiskene indirmis gibi oluyoruz\n",
    "pca = PCA(n_components = 5)\n",
    "pca_fit = pca.fit_transform(df)"
   ]
  },
  {
   "cell_type": "code",
   "execution_count": 66,
   "metadata": {},
   "outputs": [
    {
     "data": {
      "text/plain": [
       "array([[ 0.07684824,  1.65352465,  0.08822766,  1.46279093,  0.4694797 ],\n",
       "       [ 0.33712679, -2.32055981, -0.69457082,  1.57514345,  0.31527879],\n",
       "       [ 3.40836188,  0.75575651, -0.96993707, -1.1205432 ,  0.73293692],\n",
       "       ...,\n",
       "       [-1.20632164, -0.62571443,  0.25214952, -0.62359809, -1.42396615],\n",
       "       [ 2.08485639, -2.05985085, -0.16640456,  3.35810448, -0.43859562],\n",
       "       [ 1.97796295, -0.20809992, -0.26984563,  0.43253925, -1.05971425]])"
      ]
     },
     "execution_count": 66,
     "metadata": {},
     "output_type": "execute_result"
    }
   ],
   "source": [
    "pca_fit"
   ]
  },
  {
   "cell_type": "code",
   "execution_count": 67,
   "metadata": {},
   "outputs": [
    {
     "data": {
      "text/plain": [
       "array([0.45245466, 0.24246801, 0.1016968 , 0.0539344 , 0.04161435])"
      ]
     },
     "execution_count": 67,
     "metadata": {},
     "output_type": "execute_result"
    }
   ],
   "source": [
    "# Her bir bilesinen 17 degiskenin tasidigi bilginin ne kadarini tasidigini görmek icin \n",
    "\n",
    "pca.explained_variance_ratio_"
   ]
  },
  {
   "cell_type": "code",
   "execution_count": 68,
   "metadata": {},
   "outputs": [
    {
     "data": {
      "text/plain": [
       "array([0.45245466, 0.69492267, 0.79661947, 0.85055387, 0.89216822])"
      ]
     },
     "execution_count": 68,
     "metadata": {},
     "output_type": "execute_result"
    }
   ],
   "source": [
    "# Burada 1. sinde 1 bilesinen , ikisinde 2 bilesinin toplaminin, 3. sunde 3, bilesinin toplaminin vb\n",
    "# 17 degiskenin tasidigi bilginin ne kadarini tasidigini görüyoruz\n",
    "# Yukarida ayri ayri idi\n",
    "# Mesale 3 bilesen 17 degiskenin yaklasik %80 ini (0.7966) acikliyor diyebiliriz\n",
    "\n",
    "np.cumsum(pca.explained_variance_ratio_)"
   ]
  },
  {
   "cell_type": "code",
   "execution_count": 69,
   "metadata": {},
   "outputs": [
    {
     "data": {
      "image/png": "[encoded data removed]",
      "text/plain": [
       "<Figure size 576x396 with 1 Axes>"
      ]
     },
     "metadata": {},
     "output_type": "display_data"
    }
   ],
   "source": [
    "#optimum bilesen sayisi\n",
    "pca = PCA().fit(df)\n",
    "plt.plot(np.cumsum(pca.explained_variance_ratio_))\n",
    "plt.xlabel(\"Bileşen Sayısını\")\n",
    "plt.ylabel(\"Kümülatif Varyans Oranı\");"
   ]
  },
  {
   "cell_type": "code",
   "execution_count": 70,
   "metadata": {},
   "outputs": [],
   "source": [
    "#final 3 bilesenle bu isi yapabiliriz. Cünkü %80 ini acikliyor\n",
    "# o yüzden 3 ile fit ediyoruz\n",
    "\n",
    "pca = PCA(n_components = 3)\n",
    "pca_fit = pca.fit_transform(df)"
   ]
  },
  {
   "cell_type": "code",
   "execution_count": 71,
   "metadata": {},
   "outputs": [
    {
     "data": {
      "text/plain": [
       "array([0.45245466, 0.24246801, 0.1016968 ])"
      ]
     },
     "execution_count": 71,
     "metadata": {},
     "output_type": "execute_result"
    }
   ],
   "source": [
    "pca.explained_variance_ratio_"
   ]
  },
  {
   "cell_type": "code",
   "execution_count": 72,
   "metadata": {},
   "outputs": [
    {
     "data": {
      "text/plain": [
       "array([0.45245466, 0.69492267, 0.79661947])"
      ]
     },
     "execution_count": 72,
     "metadata": {},
     "output_type": "execute_result"
    }
   ],
   "source": [
    "np.cumsum(pca.explained_variance_ratio_)"
   ]
  },
  {
   "cell_type": "code",
   "execution_count": null,
   "metadata": {},
   "outputs": [],
   "source": []
  }
 ],
 "metadata": {
  "kernelspec": {
   "display_name": "Python 3",
   "language": "python",
   "name": "python3"
  },
  "language_info": {
   "codemirror_mode": {
    "name": "ipython",
    "version": 3
   },
   "file_extension": ".py",
   "mimetype": "text/x-python",
   "name": "python",
   "nbconvert_exporter": "python",
   "pygments_lexer": "ipython3",
   "version": "3.8.3"
  }
 },
 "nbformat": 4,
 "nbformat_minor": 4
}
